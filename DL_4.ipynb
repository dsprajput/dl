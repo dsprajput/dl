{
 "cells": [
  {
   "cell_type": "code",
   "execution_count": 39,
   "metadata": {
    "executionInfo": {
     "elapsed": 4,
     "status": "ok",
     "timestamp": 1683612765218,
     "user": {
      "displayName": "Abhishek Kumar Singh",
      "userId": "15420459957370696427"
     },
     "user_tz": -330
    },
    "id": "kP01EnC-H_yM"
   },
   "outputs": [],
   "source": [
    "import numpy as np\n",
    "import pandas as pd\n",
    "import matplotlib.pyplot as plt\n",
    "\n",
    "from sklearn.preprocessing import MinMaxScaler\n",
    "from keras.models import Sequential\n",
    "from keras.layers import Dense\n",
    "from keras.layers import LSTM\n",
    "from keras.layers import Dropout"
   ]
  },
  {
   "cell_type": "code",
   "execution_count": 20,
   "metadata": {
    "executionInfo": {
     "elapsed": 11,
     "status": "ok",
     "timestamp": 1683612555954,
     "user": {
      "displayName": "Abhishek Kumar Singh",
      "userId": "15420459957370696427"
     },
     "user_tz": -330
    },
    "id": "N4MrNM7VID3t"
   },
   "outputs": [],
   "source": [
    "dataset_train = pd.read_csv(\"trainset.csv\")"
   ]
  },
  {
   "cell_type": "code",
   "execution_count": 21,
   "metadata": {
    "colab": {
     "base_uri": "https://localhost:8080/",
     "height": 206
    },
    "executionInfo": {
     "elapsed": 12,
     "status": "ok",
     "timestamp": 1683612555956,
     "user": {
      "displayName": "Abhishek Kumar Singh",
      "userId": "15420459957370696427"
     },
     "user_tz": -330
    },
    "id": "9P9eIICXIJ2p",
    "outputId": "d6e171de-f548-4bd9-b1d8-98b9fe13f1e4"
   },
   "outputs": [
    {
     "data": {
      "text/html": [
       "\n",
       "  <div id=\"df-9aa27e7d-9cdf-4b9f-b599-7667867e3e92\">\n",
       "    <div class=\"colab-df-container\">\n",
       "      <div>\n",
       "<style scoped>\n",
       "    .dataframe tbody tr th:only-of-type {\n",
       "        vertical-align: middle;\n",
       "    }\n",
       "\n",
       "    .dataframe tbody tr th {\n",
       "        vertical-align: top;\n",
       "    }\n",
       "\n",
       "    .dataframe thead th {\n",
       "        text-align: right;\n",
       "    }\n",
       "</style>\n",
       "<table border=\"1\" class=\"dataframe\">\n",
       "  <thead>\n",
       "    <tr style=\"text-align: right;\">\n",
       "      <th></th>\n",
       "      <th>Date</th>\n",
       "      <th>Open</th>\n",
       "      <th>High</th>\n",
       "      <th>Low</th>\n",
       "      <th>Close</th>\n",
       "      <th>Adj Close</th>\n",
       "      <th>Volume</th>\n",
       "    </tr>\n",
       "  </thead>\n",
       "  <tbody>\n",
       "    <tr>\n",
       "      <th>0</th>\n",
       "      <td>2013-01-02</td>\n",
       "      <td>357.385559</td>\n",
       "      <td>361.151062</td>\n",
       "      <td>355.959839</td>\n",
       "      <td>359.288177</td>\n",
       "      <td>359.288177</td>\n",
       "      <td>5115500</td>\n",
       "    </tr>\n",
       "    <tr>\n",
       "      <th>1</th>\n",
       "      <td>2013-01-03</td>\n",
       "      <td>360.122742</td>\n",
       "      <td>363.600128</td>\n",
       "      <td>358.031342</td>\n",
       "      <td>359.496826</td>\n",
       "      <td>359.496826</td>\n",
       "      <td>4666500</td>\n",
       "    </tr>\n",
       "    <tr>\n",
       "      <th>2</th>\n",
       "      <td>2013-01-04</td>\n",
       "      <td>362.313507</td>\n",
       "      <td>368.339294</td>\n",
       "      <td>361.488861</td>\n",
       "      <td>366.600616</td>\n",
       "      <td>366.600616</td>\n",
       "      <td>5562800</td>\n",
       "    </tr>\n",
       "    <tr>\n",
       "      <th>3</th>\n",
       "      <td>2013-01-07</td>\n",
       "      <td>365.348755</td>\n",
       "      <td>367.301056</td>\n",
       "      <td>362.929504</td>\n",
       "      <td>365.001007</td>\n",
       "      <td>365.001007</td>\n",
       "      <td>3332900</td>\n",
       "    </tr>\n",
       "    <tr>\n",
       "      <th>4</th>\n",
       "      <td>2013-01-08</td>\n",
       "      <td>365.393463</td>\n",
       "      <td>365.771027</td>\n",
       "      <td>359.874359</td>\n",
       "      <td>364.280701</td>\n",
       "      <td>364.280701</td>\n",
       "      <td>3373900</td>\n",
       "    </tr>\n",
       "  </tbody>\n",
       "</table>\n",
       "</div>\n",
       "      <button class=\"colab-df-convert\" onclick=\"convertToInteractive('df-9aa27e7d-9cdf-4b9f-b599-7667867e3e92')\"\n",
       "              title=\"Convert this dataframe to an interactive table.\"\n",
       "              style=\"display:none;\">\n",
       "        \n",
       "  <svg xmlns=\"http://www.w3.org/2000/svg\" height=\"24px\"viewBox=\"0 0 24 24\"\n",
       "       width=\"24px\">\n",
       "    <path d=\"M0 0h24v24H0V0z\" fill=\"none\"/>\n",
       "    <path d=\"M18.56 5.44l.94 2.06.94-2.06 2.06-.94-2.06-.94-.94-2.06-.94 2.06-2.06.94zm-11 1L8.5 8.5l.94-2.06 2.06-.94-2.06-.94L8.5 2.5l-.94 2.06-2.06.94zm10 10l.94 2.06.94-2.06 2.06-.94-2.06-.94-.94-2.06-.94 2.06-2.06.94z\"/><path d=\"M17.41 7.96l-1.37-1.37c-.4-.4-.92-.59-1.43-.59-.52 0-1.04.2-1.43.59L10.3 9.45l-7.72 7.72c-.78.78-.78 2.05 0 2.83L4 21.41c.39.39.9.59 1.41.59.51 0 1.02-.2 1.41-.59l7.78-7.78 2.81-2.81c.8-.78.8-2.07 0-2.86zM5.41 20L4 18.59l7.72-7.72 1.47 1.35L5.41 20z\"/>\n",
       "  </svg>\n",
       "      </button>\n",
       "      \n",
       "  <style>\n",
       "    .colab-df-container {\n",
       "      display:flex;\n",
       "      flex-wrap:wrap;\n",
       "      gap: 12px;\n",
       "    }\n",
       "\n",
       "    .colab-df-convert {\n",
       "      background-color: #E8F0FE;\n",
       "      border: none;\n",
       "      border-radius: 50%;\n",
       "      cursor: pointer;\n",
       "      display: none;\n",
       "      fill: #1967D2;\n",
       "      height: 32px;\n",
       "      padding: 0 0 0 0;\n",
       "      width: 32px;\n",
       "    }\n",
       "\n",
       "    .colab-df-convert:hover {\n",
       "      background-color: #E2EBFA;\n",
       "      box-shadow: 0px 1px 2px rgba(60, 64, 67, 0.3), 0px 1px 3px 1px rgba(60, 64, 67, 0.15);\n",
       "      fill: #174EA6;\n",
       "    }\n",
       "\n",
       "    [theme=dark] .colab-df-convert {\n",
       "      background-color: #3B4455;\n",
       "      fill: #D2E3FC;\n",
       "    }\n",
       "\n",
       "    [theme=dark] .colab-df-convert:hover {\n",
       "      background-color: #434B5C;\n",
       "      box-shadow: 0px 1px 3px 1px rgba(0, 0, 0, 0.15);\n",
       "      filter: drop-shadow(0px 1px 2px rgba(0, 0, 0, 0.3));\n",
       "      fill: #FFFFFF;\n",
       "    }\n",
       "  </style>\n",
       "\n",
       "      <script>\n",
       "        const buttonEl =\n",
       "          document.querySelector('#df-9aa27e7d-9cdf-4b9f-b599-7667867e3e92 button.colab-df-convert');\n",
       "        buttonEl.style.display =\n",
       "          google.colab.kernel.accessAllowed ? 'block' : 'none';\n",
       "\n",
       "        async function convertToInteractive(key) {\n",
       "          const element = document.querySelector('#df-9aa27e7d-9cdf-4b9f-b599-7667867e3e92');\n",
       "          const dataTable =\n",
       "            await google.colab.kernel.invokeFunction('convertToInteractive',\n",
       "                                                     [key], {});\n",
       "          if (!dataTable) return;\n",
       "\n",
       "          const docLinkHtml = 'Like what you see? Visit the ' +\n",
       "            '<a target=\"_blank\" href=https://colab.research.google.com/notebooks/data_table.ipynb>data table notebook</a>'\n",
       "            + ' to learn more about interactive tables.';\n",
       "          element.innerHTML = '';\n",
       "          dataTable['output_type'] = 'display_data';\n",
       "          await google.colab.output.renderOutput(dataTable, element);\n",
       "          const docLink = document.createElement('div');\n",
       "          docLink.innerHTML = docLinkHtml;\n",
       "          element.appendChild(docLink);\n",
       "        }\n",
       "      </script>\n",
       "    </div>\n",
       "  </div>\n",
       "  "
      ],
      "text/plain": [
       "         Date        Open        High         Low       Close   Adj Close  \\\n",
       "0  2013-01-02  357.385559  361.151062  355.959839  359.288177  359.288177   \n",
       "1  2013-01-03  360.122742  363.600128  358.031342  359.496826  359.496826   \n",
       "2  2013-01-04  362.313507  368.339294  361.488861  366.600616  366.600616   \n",
       "3  2013-01-07  365.348755  367.301056  362.929504  365.001007  365.001007   \n",
       "4  2013-01-08  365.393463  365.771027  359.874359  364.280701  364.280701   \n",
       "\n",
       "    Volume  \n",
       "0  5115500  \n",
       "1  4666500  \n",
       "2  5562800  \n",
       "3  3332900  \n",
       "4  3373900  "
      ]
     },
     "execution_count": 21,
     "metadata": {},
     "output_type": "execute_result"
    }
   ],
   "source": [
    "dataset_train.head(5)"
   ]
  },
  {
   "cell_type": "code",
   "execution_count": 22,
   "metadata": {
    "executionInfo": {
     "elapsed": 11,
     "status": "ok",
     "timestamp": 1683612555958,
     "user": {
      "displayName": "Abhishek Kumar Singh",
      "userId": "15420459957370696427"
     },
     "user_tz": -330
    },
    "id": "fPI2GeB8IIPY"
   },
   "outputs": [],
   "source": [
    "trainset = dataset_train.iloc[:, 1:2].values"
   ]
  },
  {
   "cell_type": "code",
   "execution_count": 25,
   "metadata": {
    "colab": {
     "base_uri": "https://localhost:8080/"
    },
    "executionInfo": {
     "elapsed": 8,
     "status": "ok",
     "timestamp": 1683612616748,
     "user": {
      "displayName": "Abhishek Kumar Singh",
      "userId": "15420459957370696427"
     },
     "user_tz": -330
    },
    "id": "a0o8ChLGINVb",
    "outputId": "b449a634-b53b-4df4-d54b-84053a2c11b3"
   },
   "outputs": [
    {
     "data": {
      "text/plain": [
       "array([[357.385559],\n",
       "       [360.122742],\n",
       "       [362.313507],\n",
       "       [365.348755],\n",
       "       [365.393463]])"
      ]
     },
     "execution_count": 25,
     "metadata": {},
     "output_type": "execute_result"
    }
   ],
   "source": [
    "trainset[:5]"
   ]
  },
  {
   "cell_type": "code",
   "execution_count": 28,
   "metadata": {
    "executionInfo": {
     "elapsed": 4,
     "status": "ok",
     "timestamp": 1683612650810,
     "user": {
      "displayName": "Abhishek Kumar Singh",
      "userId": "15420459957370696427"
     },
     "user_tz": -330
    },
    "id": "QsqCTXNMIP_X"
   },
   "outputs": [],
   "source": [
    "sc = MinMaxScaler(feature_range = (0,1))\n",
    "training_scaled = sc.fit_transform(trainset)"
   ]
  },
  {
   "cell_type": "code",
   "execution_count": 29,
   "metadata": {
    "colab": {
     "base_uri": "https://localhost:8080/"
    },
    "executionInfo": {
     "elapsed": 7,
     "status": "ok",
     "timestamp": 1683612663251,
     "user": {
      "displayName": "Abhishek Kumar Singh",
      "userId": "15420459957370696427"
     },
     "user_tz": -330
    },
    "id": "WqdAeyvGIia2",
    "outputId": "276a8c08-0356-4d5d-b287-a688a8dc2f65"
   },
   "outputs": [
    {
     "data": {
      "text/plain": [
       "array([[0.01011148],\n",
       "       [0.01388614],\n",
       "       [0.01690727],\n",
       "       [0.02109298],\n",
       "       [0.02115463]])"
      ]
     },
     "execution_count": 29,
     "metadata": {},
     "output_type": "execute_result"
    }
   ],
   "source": [
    "training_scaled[:5]"
   ]
  },
  {
   "cell_type": "code",
   "execution_count": 35,
   "metadata": {
    "executionInfo": {
     "elapsed": 486,
     "status": "ok",
     "timestamp": 1683612740031,
     "user": {
      "displayName": "Abhishek Kumar Singh",
      "userId": "15420459957370696427"
     },
     "user_tz": -330
    },
    "id": "TdOpM0hDIrIE"
   },
   "outputs": [],
   "source": [
    "x_train = []\n",
    "y_train = []"
   ]
  },
  {
   "cell_type": "code",
   "execution_count": 36,
   "metadata": {
    "executionInfo": {
     "elapsed": 4,
     "status": "ok",
     "timestamp": 1683612742808,
     "user": {
      "displayName": "Abhishek Kumar Singh",
      "userId": "15420459957370696427"
     },
     "user_tz": -330
    },
    "id": "UEq_LbJrInaF"
   },
   "outputs": [],
   "source": [
    "for i in range(60,1259):\n",
    "    x_train.append(training_scaled[i-60:i, 0])\n",
    "    y_train.append(training_scaled[i,0])\n",
    "x_train, y_train = np.array(x_train), np.array(y_train)"
   ]
  },
  {
   "cell_type": "code",
   "execution_count": 37,
   "metadata": {
    "colab": {
     "base_uri": "https://localhost:8080/"
    },
    "executionInfo": {
     "elapsed": 5,
     "status": "ok",
     "timestamp": 1683612747121,
     "user": {
      "displayName": "Abhishek Kumar Singh",
      "userId": "15420459957370696427"
     },
     "user_tz": -330
    },
    "id": "tD8E-q39Is2h",
    "outputId": "2665b6f7-cfe8-47fe-aee7-be5711583aee"
   },
   "outputs": [
    {
     "data": {
      "text/plain": [
       "(1199, 60)"
      ]
     },
     "execution_count": 37,
     "metadata": {},
     "output_type": "execute_result"
    }
   ],
   "source": [
    "x_train.shape"
   ]
  },
  {
   "cell_type": "code",
   "execution_count": 38,
   "metadata": {
    "executionInfo": {
     "elapsed": 5,
     "status": "ok",
     "timestamp": 1683612749517,
     "user": {
      "displayName": "Abhishek Kumar Singh",
      "userId": "15420459957370696427"
     },
     "user_tz": -330
    },
    "id": "924J5QMjIutl"
   },
   "outputs": [],
   "source": [
    "x_train = np.reshape(x_train, (x_train.shape[0], x_train.shape[1],1))"
   ]
  },
  {
   "cell_type": "code",
   "execution_count": 42,
   "metadata": {
    "executionInfo": {
     "elapsed": 2362,
     "status": "ok",
     "timestamp": 1683612811273,
     "user": {
      "displayName": "Abhishek Kumar Singh",
      "userId": "15420459957370696427"
     },
     "user_tz": -330
    },
    "id": "idq5bSiiIyDT"
   },
   "outputs": [],
   "source": [
    "regressor = Sequential()\n",
    "regressor.add(LSTM(units = 50, return_sequences = True, input_shape = (x_train.shape[1],1)))\n",
    "regressor.add(Dropout(0.2))\n",
    "regressor.add(LSTM(units = 50, return_sequences = True))\n",
    "regressor.add(Dropout(0.2))\n",
    "regressor.add(LSTM(units = 50, return_sequences = True))\n",
    "regressor.add(Dropout(0.2))\n",
    "regressor.add(LSTM(units = 50))\n",
    "regressor.add(Dropout(0.2))\n",
    "regressor.add(Dense(units = 1))"
   ]
  },
  {
   "cell_type": "code",
   "execution_count": 43,
   "metadata": {
    "colab": {
     "base_uri": "https://localhost:8080/"
    },
    "executionInfo": {
     "elapsed": 8,
     "status": "ok",
     "timestamp": 1683612820834,
     "user": {
      "displayName": "Abhishek Kumar Singh",
      "userId": "15420459957370696427"
     },
     "user_tz": -330
    },
    "id": "mzDMcNgaJA_s",
    "outputId": "780a2db5-eca7-4028-f0dd-983d6144a5d1"
   },
   "outputs": [
    {
     "name": "stdout",
     "output_type": "stream",
     "text": [
      "Model: \"sequential_4\"\n",
      "_________________________________________________________________\n",
      " Layer (type)                Output Shape              Param #   \n",
      "=================================================================\n",
      " lstm_13 (LSTM)              (None, 60, 50)            10400     \n",
      "                                                                 \n",
      " dropout_12 (Dropout)        (None, 60, 50)            0         \n",
      "                                                                 \n",
      " lstm_14 (LSTM)              (None, 60, 50)            20200     \n",
      "                                                                 \n",
      " dropout_13 (Dropout)        (None, 60, 50)            0         \n",
      "                                                                 \n",
      " lstm_15 (LSTM)              (None, 60, 50)            20200     \n",
      "                                                                 \n",
      " dropout_14 (Dropout)        (None, 60, 50)            0         \n",
      "                                                                 \n",
      " lstm_16 (LSTM)              (None, 50)                20200     \n",
      "                                                                 \n",
      " dropout_15 (Dropout)        (None, 50)                0         \n",
      "                                                                 \n",
      " dense_2 (Dense)             (None, 1)                 51        \n",
      "                                                                 \n",
      "=================================================================\n",
      "Total params: 71,051\n",
      "Trainable params: 71,051\n",
      "Non-trainable params: 0\n",
      "_________________________________________________________________\n"
     ]
    }
   ],
   "source": [
    "regressor.summary()"
   ]
  },
  {
   "cell_type": "code",
   "execution_count": 44,
   "metadata": {
    "executionInfo": {
     "elapsed": 3,
     "status": "ok",
     "timestamp": 1683612832409,
     "user": {
      "displayName": "Abhishek Kumar Singh",
      "userId": "15420459957370696427"
     },
     "user_tz": -330
    },
    "id": "_pRZT-nDJNw3"
   },
   "outputs": [],
   "source": [
    "regressor.compile(optimizer = 'adam', loss = 'mean_squared_error')"
   ]
  },
  {
   "cell_type": "code",
   "execution_count": 45,
   "metadata": {
    "colab": {
     "base_uri": "https://localhost:8080/"
    },
    "executionInfo": {
     "elapsed": 632142,
     "status": "ok",
     "timestamp": 1683613471073,
     "user": {
      "displayName": "Abhishek Kumar Singh",
      "userId": "15420459957370696427"
     },
     "user_tz": -330
    },
    "id": "NPuD0O4NJQks",
    "outputId": "28c4e192-66eb-4c6e-e820-afa18232d010"
   },
   "outputs": [
    {
     "name": "stdout",
     "output_type": "stream",
     "text": [
      "Epoch 1/100\n",
      "38/38 [==============================] - 17s 166ms/step - loss: 0.0329\n",
      "Epoch 2/100\n",
      "38/38 [==============================] - 6s 146ms/step - loss: 0.0039\n",
      "Epoch 3/100\n",
      "38/38 [==============================] - 7s 194ms/step - loss: 0.0040\n",
      "Epoch 4/100\n",
      "38/38 [==============================] - 5s 143ms/step - loss: 0.0036\n",
      "Epoch 5/100\n",
      "38/38 [==============================] - 6s 169ms/step - loss: 0.0035\n",
      "Epoch 6/100\n",
      "38/38 [==============================] - 9s 240ms/step - loss: 0.0040\n",
      "Epoch 7/100\n",
      "38/38 [==============================] - 8s 203ms/step - loss: 0.0039\n",
      "Epoch 8/100\n",
      "38/38 [==============================] - 5s 132ms/step - loss: 0.0032\n",
      "Epoch 9/100\n",
      "38/38 [==============================] - 9s 239ms/step - loss: 0.0028\n",
      "Epoch 10/100\n",
      "38/38 [==============================] - 5s 131ms/step - loss: 0.0036\n",
      "Epoch 11/100\n",
      "38/38 [==============================] - 7s 196ms/step - loss: 0.0032\n",
      "Epoch 12/100\n",
      "38/38 [==============================] - 5s 131ms/step - loss: 0.0028\n",
      "Epoch 13/100\n",
      "38/38 [==============================] - 6s 165ms/step - loss: 0.0028\n",
      "Epoch 14/100\n",
      "38/38 [==============================] - 7s 176ms/step - loss: 0.0026\n",
      "Epoch 15/100\n",
      "38/38 [==============================] - 8s 197ms/step - loss: 0.0031\n",
      "Epoch 16/100\n",
      "38/38 [==============================] - 6s 161ms/step - loss: 0.0030\n",
      "Epoch 17/100\n",
      "38/38 [==============================] - 6s 167ms/step - loss: 0.0026\n",
      "Epoch 18/100\n",
      "38/38 [==============================] - 5s 133ms/step - loss: 0.0032\n",
      "Epoch 19/100\n",
      "38/38 [==============================] - 10s 257ms/step - loss: 0.0029\n",
      "Epoch 20/100\n",
      "38/38 [==============================] - 5s 130ms/step - loss: 0.0025\n",
      "Epoch 21/100\n",
      "38/38 [==============================] - 7s 194ms/step - loss: 0.0029\n",
      "Epoch 22/100\n",
      "38/38 [==============================] - 6s 146ms/step - loss: 0.0024\n",
      "Epoch 23/100\n",
      "38/38 [==============================] - 7s 175ms/step - loss: 0.0025\n",
      "Epoch 24/100\n",
      "38/38 [==============================] - 6s 153ms/step - loss: 0.0027\n",
      "Epoch 25/100\n",
      "38/38 [==============================] - 7s 181ms/step - loss: 0.0022\n",
      "Epoch 26/100\n",
      "38/38 [==============================] - 5s 131ms/step - loss: 0.0022\n",
      "Epoch 27/100\n",
      "38/38 [==============================] - 6s 171ms/step - loss: 0.0024\n",
      "Epoch 28/100\n",
      "38/38 [==============================] - 7s 171ms/step - loss: 0.0021\n",
      "Epoch 29/100\n",
      "38/38 [==============================] - 6s 150ms/step - loss: 0.0021\n",
      "Epoch 30/100\n",
      "38/38 [==============================] - 6s 158ms/step - loss: 0.0022\n",
      "Epoch 31/100\n",
      "38/38 [==============================] - 6s 146ms/step - loss: 0.0022\n",
      "Epoch 32/100\n",
      "38/38 [==============================] - 6s 160ms/step - loss: 0.0018\n",
      "Epoch 33/100\n",
      "38/38 [==============================] - 6s 145ms/step - loss: 0.0021\n",
      "Epoch 34/100\n",
      "38/38 [==============================] - 9s 223ms/step - loss: 0.0021\n",
      "Epoch 35/100\n",
      "38/38 [==============================] - 5s 132ms/step - loss: 0.0022\n",
      "Epoch 36/100\n",
      "38/38 [==============================] - 8s 200ms/step - loss: 0.0023\n",
      "Epoch 37/100\n",
      "38/38 [==============================] - 5s 132ms/step - loss: 0.0021\n",
      "Epoch 38/100\n",
      "38/38 [==============================] - 6s 164ms/step - loss: 0.0018\n",
      "Epoch 39/100\n",
      "38/38 [==============================] - 5s 130ms/step - loss: 0.0019\n",
      "Epoch 40/100\n",
      "38/38 [==============================] - 6s 158ms/step - loss: 0.0019\n",
      "Epoch 41/100\n",
      "38/38 [==============================] - 5s 133ms/step - loss: 0.0018\n",
      "Epoch 42/100\n",
      "38/38 [==============================] - 5s 129ms/step - loss: 0.0019\n",
      "Epoch 43/100\n",
      "38/38 [==============================] - 6s 165ms/step - loss: 0.0023\n",
      "Epoch 44/100\n",
      "38/38 [==============================] - 5s 133ms/step - loss: 0.0020\n",
      "Epoch 45/100\n",
      "38/38 [==============================] - 6s 165ms/step - loss: 0.0018\n",
      "Epoch 46/100\n",
      "38/38 [==============================] - 5s 131ms/step - loss: 0.0019\n",
      "Epoch 47/100\n",
      "38/38 [==============================] - 6s 151ms/step - loss: 0.0017\n",
      "Epoch 48/100\n",
      "38/38 [==============================] - 5s 142ms/step - loss: 0.0019\n",
      "Epoch 49/100\n",
      "38/38 [==============================] - 5s 132ms/step - loss: 0.0018\n",
      "Epoch 50/100\n",
      "38/38 [==============================] - 6s 165ms/step - loss: 0.0018\n",
      "Epoch 51/100\n",
      "38/38 [==============================] - 5s 132ms/step - loss: 0.0017\n",
      "Epoch 52/100\n",
      "38/38 [==============================] - 6s 165ms/step - loss: 0.0017\n",
      "Epoch 53/100\n",
      "38/38 [==============================] - 5s 131ms/step - loss: 0.0018\n",
      "Epoch 54/100\n",
      "38/38 [==============================] - 5s 144ms/step - loss: 0.0016\n",
      "Epoch 55/100\n",
      "38/38 [==============================] - 6s 149ms/step - loss: 0.0016\n",
      "Epoch 56/100\n",
      "38/38 [==============================] - 5s 132ms/step - loss: 0.0016\n",
      "Epoch 57/100\n",
      "38/38 [==============================] - 6s 166ms/step - loss: 0.0015\n",
      "Epoch 58/100\n",
      "38/38 [==============================] - 5s 130ms/step - loss: 0.0015\n",
      "Epoch 59/100\n",
      "38/38 [==============================] - 6s 166ms/step - loss: 0.0015\n",
      "Epoch 60/100\n",
      "38/38 [==============================] - 5s 130ms/step - loss: 0.0016\n",
      "Epoch 61/100\n",
      "38/38 [==============================] - 5s 136ms/step - loss: 0.0015\n",
      "Epoch 62/100\n",
      "38/38 [==============================] - 6s 157ms/step - loss: 0.0015\n",
      "Epoch 63/100\n",
      "38/38 [==============================] - 5s 130ms/step - loss: 0.0017\n",
      "Epoch 64/100\n",
      "38/38 [==============================] - 6s 164ms/step - loss: 0.0015\n",
      "Epoch 65/100\n",
      "38/38 [==============================] - 5s 130ms/step - loss: 0.0017\n",
      "Epoch 66/100\n",
      "38/38 [==============================] - 6s 161ms/step - loss: 0.0014\n",
      "Epoch 67/100\n",
      "38/38 [==============================] - 5s 131ms/step - loss: 0.0015\n",
      "Epoch 68/100\n",
      "38/38 [==============================] - 5s 129ms/step - loss: 0.0014\n",
      "Epoch 69/100\n",
      "38/38 [==============================] - 6s 164ms/step - loss: 0.0014\n",
      "Epoch 70/100\n",
      "38/38 [==============================] - 5s 131ms/step - loss: 0.0015\n",
      "Epoch 71/100\n",
      "38/38 [==============================] - 6s 167ms/step - loss: 0.0014\n",
      "Epoch 72/100\n",
      "38/38 [==============================] - 5s 131ms/step - loss: 0.0012\n",
      "Epoch 73/100\n",
      "38/38 [==============================] - 6s 147ms/step - loss: 0.0014\n",
      "Epoch 74/100\n",
      "38/38 [==============================] - 6s 143ms/step - loss: 0.0015\n",
      "Epoch 75/100\n",
      "38/38 [==============================] - 5s 130ms/step - loss: 0.0013\n",
      "Epoch 76/100\n",
      "38/38 [==============================] - 6s 165ms/step - loss: 0.0013\n",
      "Epoch 77/100\n",
      "38/38 [==============================] - 5s 132ms/step - loss: 0.0013\n",
      "Epoch 78/100\n",
      "38/38 [==============================] - 6s 166ms/step - loss: 0.0012\n",
      "Epoch 79/100\n",
      "38/38 [==============================] - 5s 130ms/step - loss: 0.0013\n",
      "Epoch 80/100\n",
      "38/38 [==============================] - 5s 138ms/step - loss: 0.0012\n",
      "Epoch 81/100\n",
      "38/38 [==============================] - 6s 154ms/step - loss: 0.0012\n",
      "Epoch 82/100\n",
      "38/38 [==============================] - 5s 130ms/step - loss: 0.0013\n",
      "Epoch 83/100\n",
      "38/38 [==============================] - 6s 165ms/step - loss: 0.0012\n",
      "Epoch 84/100\n",
      "38/38 [==============================] - 5s 131ms/step - loss: 0.0012\n",
      "Epoch 85/100\n",
      "38/38 [==============================] - 6s 166ms/step - loss: 0.0012\n",
      "Epoch 86/100\n",
      "38/38 [==============================] - 5s 130ms/step - loss: 0.0011\n",
      "Epoch 87/100\n",
      "38/38 [==============================] - 5s 130ms/step - loss: 0.0012\n",
      "Epoch 88/100\n",
      "38/38 [==============================] - 6s 165ms/step - loss: 0.0012\n",
      "Epoch 89/100\n",
      "38/38 [==============================] - 5s 129ms/step - loss: 0.0014\n",
      "Epoch 90/100\n",
      "38/38 [==============================] - 6s 164ms/step - loss: 0.0012\n",
      "Epoch 91/100\n",
      "38/38 [==============================] - 5s 130ms/step - loss: 0.0011\n",
      "Epoch 92/100\n",
      "38/38 [==============================] - 6s 156ms/step - loss: 0.0011\n",
      "Epoch 93/100\n",
      "38/38 [==============================] - 5s 137ms/step - loss: 9.9668e-04\n",
      "Epoch 94/100\n",
      "38/38 [==============================] - 5s 131ms/step - loss: 0.0011\n",
      "Epoch 95/100\n",
      "38/38 [==============================] - 6s 165ms/step - loss: 0.0010\n",
      "Epoch 96/100\n",
      "38/38 [==============================] - 5s 131ms/step - loss: 0.0010\n",
      "Epoch 97/100\n",
      "38/38 [==============================] - 6s 165ms/step - loss: 9.7086e-04\n",
      "Epoch 98/100\n",
      "38/38 [==============================] - 5s 131ms/step - loss: 9.5201e-04\n",
      "Epoch 99/100\n",
      "38/38 [==============================] - 6s 149ms/step - loss: 0.0010\n",
      "Epoch 100/100\n",
      "38/38 [==============================] - 6s 147ms/step - loss: 9.1672e-04\n"
     ]
    },
    {
     "data": {
      "text/plain": [
       "<keras.callbacks.History at 0x7fce67e28af0>"
      ]
     },
     "execution_count": 45,
     "metadata": {},
     "output_type": "execute_result"
    }
   ],
   "source": [
    "regressor.fit(x_train, y_train,epochs = 100, batch_size = 32)"
   ]
  },
  {
   "cell_type": "code",
   "execution_count": 46,
   "metadata": {
    "executionInfo": {
     "elapsed": 1286,
     "status": "ok",
     "timestamp": 1683613678078,
     "user": {
      "displayName": "Abhishek Kumar Singh",
      "userId": "15420459957370696427"
     },
     "user_tz": -330
    },
    "id": "V7oQp-s3JSb5"
   },
   "outputs": [],
   "source": [
    "dataset_test = pd.read_csv(\"testset.csv\")"
   ]
  },
  {
   "cell_type": "code",
   "execution_count": 47,
   "metadata": {
    "executionInfo": {
     "elapsed": 31,
     "status": "ok",
     "timestamp": 1683613682140,
     "user": {
      "displayName": "Abhishek Kumar Singh",
      "userId": "15420459957370696427"
     },
     "user_tz": -330
    },
    "id": "-2XZgcrAJaP7"
   },
   "outputs": [],
   "source": [
    "real_stock_price = dataset_test.iloc[:, 1:2].values"
   ]
  },
  {
   "cell_type": "code",
   "execution_count": 48,
   "metadata": {
    "colab": {
     "base_uri": "https://localhost:8080/"
    },
    "executionInfo": {
     "elapsed": 2,
     "status": "ok",
     "timestamp": 1683613684848,
     "user": {
      "displayName": "Abhishek Kumar Singh",
      "userId": "15420459957370696427"
     },
     "user_tz": -330
    },
    "id": "q7IX0l6qJcIT",
    "outputId": "d2ac11c2-e705-4797-8ec6-356d1b75d759"
   },
   "outputs": [
    {
     "data": {
      "text/plain": [
       "0       357.385559\n",
       "1       360.122742\n",
       "2       362.313507\n",
       "3       365.348755\n",
       "4       365.393463\n",
       "          ...     \n",
       "120    1143.599976\n",
       "121    1128.000000\n",
       "122    1121.339966\n",
       "123    1102.089966\n",
       "124    1120.000000\n",
       "Name: Open, Length: 1384, dtype: float64"
      ]
     },
     "execution_count": 48,
     "metadata": {},
     "output_type": "execute_result"
    }
   ],
   "source": [
    "dataset_total = pd.concat((dataset_train['Open'], dataset_test['Open']), axis = 0)\n",
    "dataset_total"
   ]
  },
  {
   "cell_type": "code",
   "execution_count": 49,
   "metadata": {
    "colab": {
     "base_uri": "https://localhost:8080/"
    },
    "executionInfo": {
     "elapsed": 5,
     "status": "ok",
     "timestamp": 1683613685346,
     "user": {
      "displayName": "Abhishek Kumar Singh",
      "userId": "15420459957370696427"
     },
     "user_tz": -330
    },
    "id": "IHbnbKuxJuU8",
    "outputId": "e597a85d-8f60-45e4-e3e0-0ea97fbd3c5c"
   },
   "outputs": [
    {
     "data": {
      "text/plain": [
       "array([[ 955.48999 ],\n",
       "       [ 966.700012],\n",
       "       [ 980.      ],\n",
       "       [ 980.      ],\n",
       "       [ 973.719971],\n",
       "       [ 987.450012],\n",
       "       [ 992.      ],\n",
       "       [ 992.099976],\n",
       "       [ 990.289978],\n",
       "       [ 991.77002 ],\n",
       "       [ 986.      ],\n",
       "       [ 989.440002],\n",
       "       [ 989.52002 ],\n",
       "       [ 970.      ],\n",
       "       [ 968.369995],\n",
       "       [ 980.      ],\n",
       "       [1009.190002],\n",
       "       [1014.      ],\n",
       "       [1015.219971],\n",
       "       [1017.210022],\n",
       "       [1021.76001 ],\n",
       "       [1022.109985],\n",
       "       [1028.98999 ],\n",
       "       [1027.27002 ],\n",
       "       [1030.52002 ],\n",
       "       [1033.98999 ],\n",
       "       [1026.459961],\n",
       "       [1023.419983],\n",
       "       [1022.590027],\n",
       "       [1019.210022],\n",
       "       [1022.52002 ],\n",
       "       [1034.01001 ],\n",
       "       [1020.26001 ],\n",
       "       [1023.309998],\n",
       "       [1035.      ],\n",
       "       [1035.869995],\n",
       "       [1040.      ],\n",
       "       [1055.089966],\n",
       "       [1042.680054],\n",
       "       [1022.369995],\n",
       "       [1015.799988],\n",
       "       [1012.659973],\n",
       "       [ 995.940002],\n",
       "       [1001.5     ],\n",
       "       [1020.429993],\n",
       "       [1037.48999 ],\n",
       "       [1035.5     ],\n",
       "       [1039.630005],\n",
       "       [1046.119995],\n",
       "       [1045.      ],\n",
       "       [1054.609985],\n",
       "       [1066.079956],\n",
       "       [1075.199951],\n",
       "       [1071.780029],\n",
       "       [1064.949951],\n",
       "       [1061.109985],\n",
       "       [1058.069946],\n",
       "       [1057.390015],\n",
       "       [1051.599976],\n",
       "       [1046.719971],\n",
       "       [1048.339966],\n",
       "       [1064.310059],\n",
       "       [1088.      ],\n",
       "       [1094.      ],\n",
       "       [1102.22998 ],\n",
       "       [1109.400024],\n",
       "       [1097.099976],\n",
       "       [1106.300049],\n",
       "       [1102.410034],\n",
       "       [1132.51001 ],\n",
       "       [1126.219971],\n",
       "       [1131.410034],\n",
       "       [1131.829956],\n",
       "       [1137.48999 ],\n",
       "       [1159.849976],\n",
       "       [1177.329956],\n",
       "       [1172.530029],\n",
       "       [1175.079956],\n",
       "       [1176.47998 ],\n",
       "       [1167.829956],\n",
       "       [1170.569946],\n",
       "       [1162.609985],\n",
       "       [1122.      ],\n",
       "       [1090.599976],\n",
       "       [1027.180054],\n",
       "       [1081.540039],\n",
       "       [1055.410034],\n",
       "       [1017.25    ],\n",
       "       [1048.      ],\n",
       "       [1045.      ],\n",
       "       [1048.949951],\n",
       "       [1079.069946],\n",
       "       [1088.410034],\n",
       "       [1090.569946],\n",
       "       [1106.469971],\n",
       "       [1116.189941],\n",
       "       [1112.640015],\n",
       "       [1127.800049],\n",
       "       [1141.23999 ],\n",
       "       [1123.030029],\n",
       "       [1107.869995],\n",
       "       [1053.079956],\n",
       "       [1075.140015],\n",
       "       [1099.219971],\n",
       "       [1089.189941],\n",
       "       [1115.319946],\n",
       "       [1136.      ],\n",
       "       [1163.849976],\n",
       "       [1170.      ],\n",
       "       [1145.209961],\n",
       "       [1149.959961],\n",
       "       [1154.140015],\n",
       "       [1120.01001 ],\n",
       "       [1099.      ],\n",
       "       [1092.73999 ],\n",
       "       [1081.880005],\n",
       "       [1047.030029],\n",
       "       [1046.      ],\n",
       "       [1063.      ],\n",
       "       [ 998.      ],\n",
       "       [1011.630005],\n",
       "       [1022.820007],\n",
       "       [1013.909973],\n",
       "       [ 993.409973],\n",
       "       [1041.329956],\n",
       "       [1020.      ],\n",
       "       [1016.799988],\n",
       "       [1026.439941],\n",
       "       [1027.98999 ],\n",
       "       [1025.040039],\n",
       "       [1040.880005],\n",
       "       [1037.      ],\n",
       "       [1051.369995],\n",
       "       [1077.430054],\n",
       "       [1069.400024],\n",
       "       [1082.      ],\n",
       "       [1077.859985],\n",
       "       [1052.      ],\n",
       "       [1025.52002 ],\n",
       "       [1029.51001 ],\n",
       "       [1046.      ],\n",
       "       [1030.01001 ],\n",
       "       [1013.659973],\n",
       "       [1028.099976],\n",
       "       [1019.      ],\n",
       "       [1016.900024],\n",
       "       [1049.22998 ],\n",
       "       [1058.540039],\n",
       "       [1058.099976],\n",
       "       [1086.030029],\n",
       "       [1093.599976],\n",
       "       [1100.      ],\n",
       "       [1090.      ],\n",
       "       [1077.310059],\n",
       "       [1079.890015],\n",
       "       [1061.859985],\n",
       "       [1074.060059],\n",
       "       [1083.560059],\n",
       "       [1065.130005],\n",
       "       [1079.      ],\n",
       "       [1079.02002 ],\n",
       "       [1064.890015],\n",
       "       [1063.030029],\n",
       "       [1067.560059],\n",
       "       [1099.349976],\n",
       "       [1122.329956],\n",
       "       [1140.98999 ],\n",
       "       [1142.170044],\n",
       "       [1131.319946],\n",
       "       [1118.180054],\n",
       "       [1118.599976],\n",
       "       [1131.069946],\n",
       "       [1141.119995],\n",
       "       [1143.849976],\n",
       "       [1148.859985],\n",
       "       [1143.650024],\n",
       "       [1158.5     ],\n",
       "       [1175.310059],\n",
       "       [1174.849976],\n",
       "       [1159.140015],\n",
       "       [1143.599976],\n",
       "       [1128.      ],\n",
       "       [1121.339966],\n",
       "       [1102.089966],\n",
       "       [1120.      ]])"
      ]
     },
     "execution_count": 49,
     "metadata": {},
     "output_type": "execute_result"
    }
   ],
   "source": [
    "inputs = dataset_total[len(dataset_total) - len(dataset_test)-60:].values\n",
    "inputs = inputs.reshape(-1,1)\n",
    "inputs"
   ]
  },
  {
   "cell_type": "code",
   "execution_count": 50,
   "metadata": {
    "colab": {
     "base_uri": "https://localhost:8080/"
    },
    "executionInfo": {
     "elapsed": 5,
     "status": "ok",
     "timestamp": 1683613685908,
     "user": {
      "displayName": "Abhishek Kumar Singh",
      "userId": "15420459957370696427"
     },
     "user_tz": -330
    },
    "id": "2B3qYF9iJ2Eb",
    "outputId": "1a15e443-c9cb-402a-958a-441612cdb5b3"
   },
   "outputs": [
    {
     "data": {
      "text/plain": [
       "(185, 1)"
      ]
     },
     "execution_count": 50,
     "metadata": {},
     "output_type": "execute_result"
    }
   ],
   "source": [
    "inputs = sc.transform(inputs)\n",
    "inputs.shape"
   ]
  },
  {
   "cell_type": "code",
   "execution_count": 51,
   "metadata": {
    "colab": {
     "base_uri": "https://localhost:8080/"
    },
    "executionInfo": {
     "elapsed": 6,
     "status": "ok",
     "timestamp": 1683613691574,
     "user": {
      "displayName": "Abhishek Kumar Singh",
      "userId": "15420459957370696427"
     },
     "user_tz": -330
    },
    "id": "fGz88KXJJ3-L",
    "outputId": "140a55ad-97bf-4e87-9e89-143a610378f2"
   },
   "outputs": [
    {
     "data": {
      "text/plain": [
       "(125, 60)"
      ]
     },
     "execution_count": 51,
     "metadata": {},
     "output_type": "execute_result"
    }
   ],
   "source": [
    "x_test = []\n",
    "for i in range(60,185):\n",
    "    x_test.append(inputs[i-60:i,0])\n",
    "\n",
    "x_test = np.array(x_test)\n",
    "x_test.shape"
   ]
  },
  {
   "cell_type": "code",
   "execution_count": 52,
   "metadata": {
    "colab": {
     "base_uri": "https://localhost:8080/"
    },
    "executionInfo": {
     "elapsed": 6,
     "status": "ok",
     "timestamp": 1683613692553,
     "user": {
      "displayName": "Abhishek Kumar Singh",
      "userId": "15420459957370696427"
     },
     "user_tz": -330
    },
    "id": "pIsEhjkzJ6wb",
    "outputId": "1455a847-86c4-42c7-a65e-173eff404707"
   },
   "outputs": [
    {
     "data": {
      "text/plain": [
       "(125, 60, 1)"
      ]
     },
     "execution_count": 52,
     "metadata": {},
     "output_type": "execute_result"
    }
   ],
   "source": [
    "x_test = np.reshape(x_test, (x_test.shape[0],x_test.shape[1],1))\n",
    "x_test.shape"
   ]
  },
  {
   "cell_type": "code",
   "execution_count": 53,
   "metadata": {
    "colab": {
     "base_uri": "https://localhost:8080/"
    },
    "executionInfo": {
     "elapsed": 2533,
     "status": "ok",
     "timestamp": 1683613698869,
     "user": {
      "displayName": "Abhishek Kumar Singh",
      "userId": "15420459957370696427"
     },
     "user_tz": -330
    },
    "id": "Ul2jGlDVKC8K",
    "outputId": "613ade71-a820-48a9-dba2-17a8cc5e0689"
   },
   "outputs": [
    {
     "name": "stdout",
     "output_type": "stream",
     "text": [
      "4/4 [==============================] - 2s 37ms/step\n"
     ]
    },
    {
     "data": {
      "text/plain": [
       "array([[1052.4279],\n",
       "       [1050.8287],\n",
       "       [1052.5302],\n",
       "       [1059.9318],\n",
       "       [1070.6041],\n",
       "       [1081.3812],\n",
       "       [1090.2233],\n",
       "       [1094.0156],\n",
       "       [1094.8312],\n",
       "       [1094.0156],\n",
       "       [1097.2748],\n",
       "       [1103.0132],\n",
       "       [1109.3981],\n",
       "       [1114.592 ],\n",
       "       [1118.6245],\n",
       "       [1124.6046],\n",
       "       [1133.9406],\n",
       "       [1142.9906],\n",
       "       [1149.591 ],\n",
       "       [1153.3746],\n",
       "       [1153.8256],\n",
       "       [1152.904 ],\n",
       "       [1151.0845],\n",
       "       [1143.927 ],\n",
       "       [1130.0553],\n",
       "       [1106.4535],\n",
       "       [1088.0912],\n",
       "       [1077.204 ],\n",
       "       [1067.8739],\n",
       "       [1063.1882],\n",
       "       [1062.3495],\n",
       "       [1063.7626],\n",
       "       [1069.4648],\n",
       "       [1077.989 ],\n",
       "       [1085.8636],\n",
       "       [1092.7734],\n",
       "       [1098.9044],\n",
       "       [1102.8531],\n",
       "       [1106.5645],\n",
       "       [1111.9436],\n",
       "       [1115.2432],\n",
       "       [1113.783 ],\n",
       "       [1101.9633],\n",
       "       [1088.2582],\n",
       "       [1082.0876],\n",
       "       [1082.884 ],\n",
       "       [1090.8126],\n",
       "       [1104.0094],\n",
       "       [1120.7734],\n",
       "       [1136.3044],\n",
       "       [1143.1559],\n",
       "       [1142.7677],\n",
       "       [1139.598 ],\n",
       "       [1132.1938],\n",
       "       [1120.8572],\n",
       "       [1108.9508],\n",
       "       [1098.6912],\n",
       "       [1087.3153],\n",
       "       [1076.4911],\n",
       "       [1070.7976],\n",
       "       [1061.4321],\n",
       "       [1050.5582],\n",
       "       [1042.7742],\n",
       "       [1038.1027],\n",
       "       [1032.7839],\n",
       "       [1033.1241],\n",
       "       [1035.3627],\n",
       "       [1036.2024],\n",
       "       [1036.1504],\n",
       "       [1035.8033],\n",
       "       [1034.9246],\n",
       "       [1035.8936],\n",
       "       [1037.8141],\n",
       "       [1041.5747],\n",
       "       [1049.6333],\n",
       "       [1058.1182],\n",
       "       [1065.8334],\n",
       "       [1070.78  ],\n",
       "       [1069.1371],\n",
       "       [1059.4856],\n",
       "       [1047.352 ],\n",
       "       [1040.1493],\n",
       "       [1037.2288],\n",
       "       [1034.7087],\n",
       "       [1033.6967],\n",
       "       [1032.849 ],\n",
       "       [1031.4528],\n",
       "       [1034.2258],\n",
       "       [1041.5118],\n",
       "       [1049.7438],\n",
       "       [1059.697 ],\n",
       "       [1069.9595],\n",
       "       [1078.8689],\n",
       "       [1083.4303],\n",
       "       [1082.2037],\n",
       "       [1078.1443],\n",
       "       [1071.8195],\n",
       "       [1067.4905],\n",
       "       [1067.9078],\n",
       "       [1069.2352],\n",
       "       [1071.7117],\n",
       "       [1074.5334],\n",
       "       [1074.8337],\n",
       "       [1072.5828],\n",
       "       [1069.9697],\n",
       "       [1072.7906],\n",
       "       [1083.0637],\n",
       "       [1098.539 ],\n",
       "       [1113.1416],\n",
       "       [1121.1721],\n",
       "       [1120.8507],\n",
       "       [1115.8185],\n",
       "       [1112.1362],\n",
       "       [1113.2728],\n",
       "       [1118.3695],\n",
       "       [1125.2247],\n",
       "       [1130.4885],\n",
       "       [1135.2087],\n",
       "       [1141.4839],\n",
       "       [1147.9248],\n",
       "       [1150.6747],\n",
       "       [1147.874 ],\n",
       "       [1140.174 ],\n",
       "       [1130.752 ],\n",
       "       [1120.6104]], dtype=float32)"
      ]
     },
     "execution_count": 53,
     "metadata": {},
     "output_type": "execute_result"
    }
   ],
   "source": [
    "predicted_price = regressor.predict(x_test)\n",
    "predicted_price = sc.inverse_transform(predicted_price)\n",
    "predicted_price"
   ]
  },
  {
   "cell_type": "code",
   "execution_count": 54,
   "metadata": {
    "colab": {
     "base_uri": "https://localhost:8080/",
     "height": 472
    },
    "executionInfo": {
     "elapsed": 2100,
     "status": "ok",
     "timestamp": 1683613703758,
     "user": {
      "displayName": "Abhishek Kumar Singh",
      "userId": "15420459957370696427"
     },
     "user_tz": -330
    },
    "id": "ddfW2AJ4KII6",
    "outputId": "c63fc3ae-668a-421b-d153-7cb3ad725f7f"
   },
   "outputs": [
    {
     "data": {
      "image/png": "[encoded data removed]",
      "text/plain": [
       "<Figure size 640x480 with 1 Axes>"
      ]
     },
     "metadata": {},
     "output_type": "display_data"
    }
   ],
   "source": [
    "plt.plot(real_stock_price,color = 'red', label = 'Real Price')\n",
    "plt.plot(predicted_price, color = 'blue', label = 'Predicted Price')\n",
    "plt.title('Google Stock Price Prediction')\n",
    "plt.xlabel('Time')\n",
    "plt.ylabel('Google Stock Price')\n",
    "plt.legend()\n",
    "plt.show()"
   ]
  }
 ],
 "metadata": {
  "colab": {
   "authorship_tag": "ABX9TyMTfuq2/uft146iE/LKqz8V",
   "provenance": []
  },
  "kernelspec": {
   "display_name": "Python 3 (ipykernel)",
   "language": "python",
   "name": "python3"
  },
  "language_info": {
   "codemirror_mode": {
    "name": "ipython",
    "version": 3
   },
   "file_extension": ".py",
   "mimetype": "text/x-python",
   "name": "python",
   "nbconvert_exporter": "python",
   "pygments_lexer": "ipython3",
   "version": "3.9.5"
  }
 },
 "nbformat": 4,
 "nbformat_minor": 1
}
