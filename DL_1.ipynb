{
 "cells": [
  {
   "cell_type": "code",
   "execution_count": 33,
   "metadata": {
    "executionInfo": {
     "elapsed": 806,
     "status": "ok",
     "timestamp": 1683562216680,
     "user": {
      "displayName": "Abhishek Kumar Singh",
      "userId": "15420459957370696427"
     },
     "user_tz": -330
    },
    "id": "ljnRJWF1_aG2"
   },
   "outputs": [],
   "source": [
    "import numpy as np\n",
    "import pandas as pd\n",
    "import matplotlib.pyplot as plt\n",
    "import seaborn as sns\n",
    "%matplotlib inline\n",
    "\n",
    "from sklearn.preprocessing import StandardScaler\n",
    "from sklearn.model_selection import train_test_split\n",
    "\n",
    "\n",
    "from tensorflow.keras.models import Sequential\n",
    "from tensorflow.keras.layers import Dense"
   ]
  },
  {
   "cell_type": "code",
   "execution_count": 34,
   "metadata": {
    "executionInfo": {
     "elapsed": 2,
     "status": "ok",
     "timestamp": 1683562218936,
     "user": {
      "displayName": "Abhishek Kumar Singh",
      "userId": "15420459957370696427"
     },
     "user_tz": -330
    },
    "id": "8IhFpT0DA6sH"
   },
   "outputs": [],
   "source": [
    "column_names = ['CRIM', 'ZN', 'INDUS', 'CHAS', 'NOX', 'RM', 'AGE', 'DIS', 'RAD', 'TAX', 'PTRATIO', 'B', 'LSTAT', 'MEDV']\n",
    "df = pd.read_csv('housing.csv', header=None, delimiter='\\s+', names=column_names)"
   ]
  },
  {
   "cell_type": "code",
   "execution_count": 35,
   "metadata": {
    "colab": {
     "base_uri": "https://localhost:8080/",
     "height": 206
    },
    "executionInfo": {
     "elapsed": 20,
     "status": "ok",
     "timestamp": 1683562223003,
     "user": {
      "displayName": "Abhishek Kumar Singh",
      "userId": "15420459957370696427"
     },
     "user_tz": -330
    },
    "id": "jex6r5lhCwjf",
    "outputId": "4631c73a-db97-4f07-dc6f-43029b76ee57"
   },
   "outputs": [
    {
     "data": {
      "text/html": [
       "\n",
       "  <div id=\"df-f1bcb749-a645-4ac5-8d9c-6eaaa033a2cd\">\n",
       "    <div class=\"colab-df-container\">\n",
       "      <div>\n",
       "<style scoped>\n",
       "    .dataframe tbody tr th:only-of-type {\n",
       "        vertical-align: middle;\n",
       "    }\n",
       "\n",
       "    .dataframe tbody tr th {\n",
       "        vertical-align: top;\n",
       "    }\n",
       "\n",
       "    .dataframe thead th {\n",
       "        text-align: right;\n",
       "    }\n",
       "</style>\n",
       "<table border=\"1\" class=\"dataframe\">\n",
       "  <thead>\n",
       "    <tr style=\"text-align: right;\">\n",
       "      <th></th>\n",
       "      <th>CRIM</th>\n",
       "      <th>ZN</th>\n",
       "      <th>INDUS</th>\n",
       "      <th>CHAS</th>\n",
       "      <th>NOX</th>\n",
       "      <th>RM</th>\n",
       "      <th>AGE</th>\n",
       "      <th>DIS</th>\n",
       "      <th>RAD</th>\n",
       "      <th>TAX</th>\n",
       "      <th>PTRATIO</th>\n",
       "      <th>B</th>\n",
       "      <th>LSTAT</th>\n",
       "      <th>MEDV</th>\n",
       "    </tr>\n",
       "  </thead>\n",
       "  <tbody>\n",
       "    <tr>\n",
       "      <th>0</th>\n",
       "      <td>0.00632</td>\n",
       "      <td>18.0</td>\n",
       "      <td>2.31</td>\n",
       "      <td>0</td>\n",
       "      <td>0.538</td>\n",
       "      <td>6.575</td>\n",
       "      <td>65.2</td>\n",
       "      <td>4.0900</td>\n",
       "      <td>1</td>\n",
       "      <td>296.0</td>\n",
       "      <td>15.3</td>\n",
       "      <td>396.90</td>\n",
       "      <td>4.98</td>\n",
       "      <td>24.0</td>\n",
       "    </tr>\n",
       "    <tr>\n",
       "      <th>1</th>\n",
       "      <td>0.02731</td>\n",
       "      <td>0.0</td>\n",
       "      <td>7.07</td>\n",
       "      <td>0</td>\n",
       "      <td>0.469</td>\n",
       "      <td>6.421</td>\n",
       "      <td>78.9</td>\n",
       "      <td>4.9671</td>\n",
       "      <td>2</td>\n",
       "      <td>242.0</td>\n",
       "      <td>17.8</td>\n",
       "      <td>396.90</td>\n",
       "      <td>9.14</td>\n",
       "      <td>21.6</td>\n",
       "    </tr>\n",
       "    <tr>\n",
       "      <th>2</th>\n",
       "      <td>0.02729</td>\n",
       "      <td>0.0</td>\n",
       "      <td>7.07</td>\n",
       "      <td>0</td>\n",
       "      <td>0.469</td>\n",
       "      <td>7.185</td>\n",
       "      <td>61.1</td>\n",
       "      <td>4.9671</td>\n",
       "      <td>2</td>\n",
       "      <td>242.0</td>\n",
       "      <td>17.8</td>\n",
       "      <td>392.83</td>\n",
       "      <td>4.03</td>\n",
       "      <td>34.7</td>\n",
       "    </tr>\n",
       "    <tr>\n",
       "      <th>3</th>\n",
       "      <td>0.03237</td>\n",
       "      <td>0.0</td>\n",
       "      <td>2.18</td>\n",
       "      <td>0</td>\n",
       "      <td>0.458</td>\n",
       "      <td>6.998</td>\n",
       "      <td>45.8</td>\n",
       "      <td>6.0622</td>\n",
       "      <td>3</td>\n",
       "      <td>222.0</td>\n",
       "      <td>18.7</td>\n",
       "      <td>394.63</td>\n",
       "      <td>2.94</td>\n",
       "      <td>33.4</td>\n",
       "    </tr>\n",
       "    <tr>\n",
       "      <th>4</th>\n",
       "      <td>0.06905</td>\n",
       "      <td>0.0</td>\n",
       "      <td>2.18</td>\n",
       "      <td>0</td>\n",
       "      <td>0.458</td>\n",
       "      <td>7.147</td>\n",
       "      <td>54.2</td>\n",
       "      <td>6.0622</td>\n",
       "      <td>3</td>\n",
       "      <td>222.0</td>\n",
       "      <td>18.7</td>\n",
       "      <td>396.90</td>\n",
       "      <td>5.33</td>\n",
       "      <td>36.2</td>\n",
       "    </tr>\n",
       "  </tbody>\n",
       "</table>\n",
       "</div>\n",
       "      <button class=\"colab-df-convert\" onclick=\"convertToInteractive('df-f1bcb749-a645-4ac5-8d9c-6eaaa033a2cd')\"\n",
       "              title=\"Convert this dataframe to an interactive table.\"\n",
       "              style=\"display:none;\">\n",
       "        \n",
       "  <svg xmlns=\"http://www.w3.org/2000/svg\" height=\"24px\"viewBox=\"0 0 24 24\"\n",
       "       width=\"24px\">\n",
       "    <path d=\"M0 0h24v24H0V0z\" fill=\"none\"/>\n",
       "    <path d=\"M18.56 5.44l.94 2.06.94-2.06 2.06-.94-2.06-.94-.94-2.06-.94 2.06-2.06.94zm-11 1L8.5 8.5l.94-2.06 2.06-.94-2.06-.94L8.5 2.5l-.94 2.06-2.06.94zm10 10l.94 2.06.94-2.06 2.06-.94-2.06-.94-.94-2.06-.94 2.06-2.06.94z\"/><path d=\"M17.41 7.96l-1.37-1.37c-.4-.4-.92-.59-1.43-.59-.52 0-1.04.2-1.43.59L10.3 9.45l-7.72 7.72c-.78.78-.78 2.05 0 2.83L4 21.41c.39.39.9.59 1.41.59.51 0 1.02-.2 1.41-.59l7.78-7.78 2.81-2.81c.8-.78.8-2.07 0-2.86zM5.41 20L4 18.59l7.72-7.72 1.47 1.35L5.41 20z\"/>\n",
       "  </svg>\n",
       "      </button>\n",
       "      \n",
       "  <style>\n",
       "    .colab-df-container {\n",
       "      display:flex;\n",
       "      flex-wrap:wrap;\n",
       "      gap: 12px;\n",
       "    }\n",
       "\n",
       "    .colab-df-convert {\n",
       "      background-color: #E8F0FE;\n",
       "      border: none;\n",
       "      border-radius: 50%;\n",
       "      cursor: pointer;\n",
       "      display: none;\n",
       "      fill: #1967D2;\n",
       "      height: 32px;\n",
       "      padding: 0 0 0 0;\n",
       "      width: 32px;\n",
       "    }\n",
       "\n",
       "    .colab-df-convert:hover {\n",
       "      background-color: #E2EBFA;\n",
       "      box-shadow: 0px 1px 2px rgba(60, 64, 67, 0.3), 0px 1px 3px 1px rgba(60, 64, 67, 0.15);\n",
       "      fill: #174EA6;\n",
       "    }\n",
       "\n",
       "    [theme=dark] .colab-df-convert {\n",
       "      background-color: #3B4455;\n",
       "      fill: #D2E3FC;\n",
       "    }\n",
       "\n",
       "    [theme=dark] .colab-df-convert:hover {\n",
       "      background-color: #434B5C;\n",
       "      box-shadow: 0px 1px 3px 1px rgba(0, 0, 0, 0.15);\n",
       "      filter: drop-shadow(0px 1px 2px rgba(0, 0, 0, 0.3));\n",
       "      fill: #FFFFFF;\n",
       "    }\n",
       "  </style>\n",
       "\n",
       "      <script>\n",
       "        const buttonEl =\n",
       "          document.querySelector('#df-f1bcb749-a645-4ac5-8d9c-6eaaa033a2cd button.colab-df-convert');\n",
       "        buttonEl.style.display =\n",
       "          google.colab.kernel.accessAllowed ? 'block' : 'none';\n",
       "\n",
       "        async function convertToInteractive(key) {\n",
       "          const element = document.querySelector('#df-f1bcb749-a645-4ac5-8d9c-6eaaa033a2cd');\n",
       "          const dataTable =\n",
       "            await google.colab.kernel.invokeFunction('convertToInteractive',\n",
       "                                                     [key], {});\n",
       "          if (!dataTable) return;\n",
       "\n",
       "          const docLinkHtml = 'Like what you see? Visit the ' +\n",
       "            '<a target=\"_blank\" href=https://colab.research.google.com/notebooks/data_table.ipynb>data table notebook</a>'\n",
       "            + ' to learn more about interactive tables.';\n",
       "          element.innerHTML = '';\n",
       "          dataTable['output_type'] = 'display_data';\n",
       "          await google.colab.output.renderOutput(dataTable, element);\n",
       "          const docLink = document.createElement('div');\n",
       "          docLink.innerHTML = docLinkHtml;\n",
       "          element.appendChild(docLink);\n",
       "        }\n",
       "      </script>\n",
       "    </div>\n",
       "  </div>\n",
       "  "
      ],
      "text/plain": [
       "      CRIM    ZN  INDUS  CHAS    NOX     RM   AGE     DIS  RAD    TAX  \\\n",
       "0  0.00632  18.0   2.31     0  0.538  6.575  65.2  4.0900    1  296.0   \n",
       "1  0.02731   0.0   7.07     0  0.469  6.421  78.9  4.9671    2  242.0   \n",
       "2  0.02729   0.0   7.07     0  0.469  7.185  61.1  4.9671    2  242.0   \n",
       "3  0.03237   0.0   2.18     0  0.458  6.998  45.8  6.0622    3  222.0   \n",
       "4  0.06905   0.0   2.18     0  0.458  7.147  54.2  6.0622    3  222.0   \n",
       "\n",
       "   PTRATIO       B  LSTAT  MEDV  \n",
       "0     15.3  396.90   4.98  24.0  \n",
       "1     17.8  396.90   9.14  21.6  \n",
       "2     17.8  392.83   4.03  34.7  \n",
       "3     18.7  394.63   2.94  33.4  \n",
       "4     18.7  396.90   5.33  36.2  "
      ]
     },
     "execution_count": 35,
     "metadata": {},
     "output_type": "execute_result"
    }
   ],
   "source": [
    "df.head(5)"
   ]
  },
  {
   "cell_type": "code",
   "execution_count": 36,
   "metadata": {
    "colab": {
     "base_uri": "https://localhost:8080/"
    },
    "executionInfo": {
     "elapsed": 17,
     "status": "ok",
     "timestamp": 1683562223005,
     "user": {
      "displayName": "Abhishek Kumar Singh",
      "userId": "15420459957370696427"
     },
     "user_tz": -330
    },
    "id": "CbEKCCfOC0nr",
    "outputId": "3850aafe-0280-4a47-8356-1e6dfd316568"
   },
   "outputs": [
    {
     "data": {
      "text/plain": [
       "(506, 14)"
      ]
     },
     "execution_count": 36,
     "metadata": {},
     "output_type": "execute_result"
    }
   ],
   "source": [
    "np.shape(df)"
   ]
  },
  {
   "cell_type": "code",
   "execution_count": 37,
   "metadata": {
    "colab": {
     "base_uri": "https://localhost:8080/",
     "height": 364
    },
    "executionInfo": {
     "elapsed": 5,
     "status": "ok",
     "timestamp": 1683562223994,
     "user": {
      "displayName": "Abhishek Kumar Singh",
      "userId": "15420459957370696427"
     },
     "user_tz": -330
    },
    "id": "DAqqr2o9E-XG",
    "outputId": "d8012800-600a-4c9f-8266-76adade71c71"
   },
   "outputs": [
    {
     "data": {
      "text/html": [
       "\n",
       "  <div id=\"df-c5162776-d77a-4f11-8ab1-d33869b46b80\">\n",
       "    <div class=\"colab-df-container\">\n",
       "      <div>\n",
       "<style scoped>\n",
       "    .dataframe tbody tr th:only-of-type {\n",
       "        vertical-align: middle;\n",
       "    }\n",
       "\n",
       "    .dataframe tbody tr th {\n",
       "        vertical-align: top;\n",
       "    }\n",
       "\n",
       "    .dataframe thead th {\n",
       "        text-align: right;\n",
       "    }\n",
       "</style>\n",
       "<table border=\"1\" class=\"dataframe\">\n",
       "  <thead>\n",
       "    <tr style=\"text-align: right;\">\n",
       "      <th></th>\n",
       "      <th>CRIM</th>\n",
       "      <th>ZN</th>\n",
       "      <th>INDUS</th>\n",
       "      <th>CHAS</th>\n",
       "      <th>NOX</th>\n",
       "      <th>RM</th>\n",
       "      <th>AGE</th>\n",
       "      <th>DIS</th>\n",
       "      <th>RAD</th>\n",
       "      <th>TAX</th>\n",
       "      <th>PTRATIO</th>\n",
       "      <th>B</th>\n",
       "      <th>LSTAT</th>\n",
       "      <th>MEDV</th>\n",
       "    </tr>\n",
       "  </thead>\n",
       "  <tbody>\n",
       "    <tr>\n",
       "      <th>count</th>\n",
       "      <td>506.000000</td>\n",
       "      <td>506.000000</td>\n",
       "      <td>506.000000</td>\n",
       "      <td>506.000000</td>\n",
       "      <td>506.000000</td>\n",
       "      <td>506.000000</td>\n",
       "      <td>506.000000</td>\n",
       "      <td>506.000000</td>\n",
       "      <td>506.000000</td>\n",
       "      <td>506.000000</td>\n",
       "      <td>506.000000</td>\n",
       "      <td>506.000000</td>\n",
       "      <td>506.000000</td>\n",
       "      <td>506.000000</td>\n",
       "    </tr>\n",
       "    <tr>\n",
       "      <th>mean</th>\n",
       "      <td>3.613524</td>\n",
       "      <td>11.363636</td>\n",
       "      <td>11.136779</td>\n",
       "      <td>0.069170</td>\n",
       "      <td>0.554695</td>\n",
       "      <td>6.284634</td>\n",
       "      <td>68.574901</td>\n",
       "      <td>3.795043</td>\n",
       "      <td>9.549407</td>\n",
       "      <td>408.237154</td>\n",
       "      <td>18.455534</td>\n",
       "      <td>356.674032</td>\n",
       "      <td>12.653063</td>\n",
       "      <td>22.532806</td>\n",
       "    </tr>\n",
       "    <tr>\n",
       "      <th>std</th>\n",
       "      <td>8.601545</td>\n",
       "      <td>23.322453</td>\n",
       "      <td>6.860353</td>\n",
       "      <td>0.253994</td>\n",
       "      <td>0.115878</td>\n",
       "      <td>0.702617</td>\n",
       "      <td>28.148861</td>\n",
       "      <td>2.105710</td>\n",
       "      <td>8.707259</td>\n",
       "      <td>168.537116</td>\n",
       "      <td>2.164946</td>\n",
       "      <td>91.294864</td>\n",
       "      <td>7.141062</td>\n",
       "      <td>9.197104</td>\n",
       "    </tr>\n",
       "    <tr>\n",
       "      <th>min</th>\n",
       "      <td>0.006320</td>\n",
       "      <td>0.000000</td>\n",
       "      <td>0.460000</td>\n",
       "      <td>0.000000</td>\n",
       "      <td>0.385000</td>\n",
       "      <td>3.561000</td>\n",
       "      <td>2.900000</td>\n",
       "      <td>1.129600</td>\n",
       "      <td>1.000000</td>\n",
       "      <td>187.000000</td>\n",
       "      <td>12.600000</td>\n",
       "      <td>0.320000</td>\n",
       "      <td>1.730000</td>\n",
       "      <td>5.000000</td>\n",
       "    </tr>\n",
       "    <tr>\n",
       "      <th>25%</th>\n",
       "      <td>0.082045</td>\n",
       "      <td>0.000000</td>\n",
       "      <td>5.190000</td>\n",
       "      <td>0.000000</td>\n",
       "      <td>0.449000</td>\n",
       "      <td>5.885500</td>\n",
       "      <td>45.025000</td>\n",
       "      <td>2.100175</td>\n",
       "      <td>4.000000</td>\n",
       "      <td>279.000000</td>\n",
       "      <td>17.400000</td>\n",
       "      <td>375.377500</td>\n",
       "      <td>6.950000</td>\n",
       "      <td>17.025000</td>\n",
       "    </tr>\n",
       "    <tr>\n",
       "      <th>50%</th>\n",
       "      <td>0.256510</td>\n",
       "      <td>0.000000</td>\n",
       "      <td>9.690000</td>\n",
       "      <td>0.000000</td>\n",
       "      <td>0.538000</td>\n",
       "      <td>6.208500</td>\n",
       "      <td>77.500000</td>\n",
       "      <td>3.207450</td>\n",
       "      <td>5.000000</td>\n",
       "      <td>330.000000</td>\n",
       "      <td>19.050000</td>\n",
       "      <td>391.440000</td>\n",
       "      <td>11.360000</td>\n",
       "      <td>21.200000</td>\n",
       "    </tr>\n",
       "    <tr>\n",
       "      <th>75%</th>\n",
       "      <td>3.677083</td>\n",
       "      <td>12.500000</td>\n",
       "      <td>18.100000</td>\n",
       "      <td>0.000000</td>\n",
       "      <td>0.624000</td>\n",
       "      <td>6.623500</td>\n",
       "      <td>94.075000</td>\n",
       "      <td>5.188425</td>\n",
       "      <td>24.000000</td>\n",
       "      <td>666.000000</td>\n",
       "      <td>20.200000</td>\n",
       "      <td>396.225000</td>\n",
       "      <td>16.955000</td>\n",
       "      <td>25.000000</td>\n",
       "    </tr>\n",
       "    <tr>\n",
       "      <th>max</th>\n",
       "      <td>88.976200</td>\n",
       "      <td>100.000000</td>\n",
       "      <td>27.740000</td>\n",
       "      <td>1.000000</td>\n",
       "      <td>0.871000</td>\n",
       "      <td>8.780000</td>\n",
       "      <td>100.000000</td>\n",
       "      <td>12.126500</td>\n",
       "      <td>24.000000</td>\n",
       "      <td>711.000000</td>\n",
       "      <td>22.000000</td>\n",
       "      <td>396.900000</td>\n",
       "      <td>37.970000</td>\n",
       "      <td>50.000000</td>\n",
       "    </tr>\n",
       "  </tbody>\n",
       "</table>\n",
       "</div>\n",
       "      <button class=\"colab-df-convert\" onclick=\"convertToInteractive('df-c5162776-d77a-4f11-8ab1-d33869b46b80')\"\n",
       "              title=\"Convert this dataframe to an interactive table.\"\n",
       "              style=\"display:none;\">\n",
       "        \n",
       "  <svg xmlns=\"http://www.w3.org/2000/svg\" height=\"24px\"viewBox=\"0 0 24 24\"\n",
       "       width=\"24px\">\n",
       "    <path d=\"M0 0h24v24H0V0z\" fill=\"none\"/>\n",
       "    <path d=\"M18.56 5.44l.94 2.06.94-2.06 2.06-.94-2.06-.94-.94-2.06-.94 2.06-2.06.94zm-11 1L8.5 8.5l.94-2.06 2.06-.94-2.06-.94L8.5 2.5l-.94 2.06-2.06.94zm10 10l.94 2.06.94-2.06 2.06-.94-2.06-.94-.94-2.06-.94 2.06-2.06.94z\"/><path d=\"M17.41 7.96l-1.37-1.37c-.4-.4-.92-.59-1.43-.59-.52 0-1.04.2-1.43.59L10.3 9.45l-7.72 7.72c-.78.78-.78 2.05 0 2.83L4 21.41c.39.39.9.59 1.41.59.51 0 1.02-.2 1.41-.59l7.78-7.78 2.81-2.81c.8-.78.8-2.07 0-2.86zM5.41 20L4 18.59l7.72-7.72 1.47 1.35L5.41 20z\"/>\n",
       "  </svg>\n",
       "      </button>\n",
       "      \n",
       "  <style>\n",
       "    .colab-df-container {\n",
       "      display:flex;\n",
       "      flex-wrap:wrap;\n",
       "      gap: 12px;\n",
       "    }\n",
       "\n",
       "    .colab-df-convert {\n",
       "      background-color: #E8F0FE;\n",
       "      border: none;\n",
       "      border-radius: 50%;\n",
       "      cursor: pointer;\n",
       "      display: none;\n",
       "      fill: #1967D2;\n",
       "      height: 32px;\n",
       "      padding: 0 0 0 0;\n",
       "      width: 32px;\n",
       "    }\n",
       "\n",
       "    .colab-df-convert:hover {\n",
       "      background-color: #E2EBFA;\n",
       "      box-shadow: 0px 1px 2px rgba(60, 64, 67, 0.3), 0px 1px 3px 1px rgba(60, 64, 67, 0.15);\n",
       "      fill: #174EA6;\n",
       "    }\n",
       "\n",
       "    [theme=dark] .colab-df-convert {\n",
       "      background-color: #3B4455;\n",
       "      fill: #D2E3FC;\n",
       "    }\n",
       "\n",
       "    [theme=dark] .colab-df-convert:hover {\n",
       "      background-color: #434B5C;\n",
       "      box-shadow: 0px 1px 3px 1px rgba(0, 0, 0, 0.15);\n",
       "      filter: drop-shadow(0px 1px 2px rgba(0, 0, 0, 0.3));\n",
       "      fill: #FFFFFF;\n",
       "    }\n",
       "  </style>\n",
       "\n",
       "      <script>\n",
       "        const buttonEl =\n",
       "          document.querySelector('#df-c5162776-d77a-4f11-8ab1-d33869b46b80 button.colab-df-convert');\n",
       "        buttonEl.style.display =\n",
       "          google.colab.kernel.accessAllowed ? 'block' : 'none';\n",
       "\n",
       "        async function convertToInteractive(key) {\n",
       "          const element = document.querySelector('#df-c5162776-d77a-4f11-8ab1-d33869b46b80');\n",
       "          const dataTable =\n",
       "            await google.colab.kernel.invokeFunction('convertToInteractive',\n",
       "                                                     [key], {});\n",
       "          if (!dataTable) return;\n",
       "\n",
       "          const docLinkHtml = 'Like what you see? Visit the ' +\n",
       "            '<a target=\"_blank\" href=https://colab.research.google.com/notebooks/data_table.ipynb>data table notebook</a>'\n",
       "            + ' to learn more about interactive tables.';\n",
       "          element.innerHTML = '';\n",
       "          dataTable['output_type'] = 'display_data';\n",
       "          await google.colab.output.renderOutput(dataTable, element);\n",
       "          const docLink = document.createElement('div');\n",
       "          docLink.innerHTML = docLinkHtml;\n",
       "          element.appendChild(docLink);\n",
       "        }\n",
       "      </script>\n",
       "    </div>\n",
       "  </div>\n",
       "  "
      ],
      "text/plain": [
       "             CRIM          ZN       INDUS        CHAS         NOX          RM  \\\n",
       "count  506.000000  506.000000  506.000000  506.000000  506.000000  506.000000   \n",
       "mean     3.613524   11.363636   11.136779    0.069170    0.554695    6.284634   \n",
       "std      8.601545   23.322453    6.860353    0.253994    0.115878    0.702617   \n",
       "min      0.006320    0.000000    0.460000    0.000000    0.385000    3.561000   \n",
       "25%      0.082045    0.000000    5.190000    0.000000    0.449000    5.885500   \n",
       "50%      0.256510    0.000000    9.690000    0.000000    0.538000    6.208500   \n",
       "75%      3.677083   12.500000   18.100000    0.000000    0.624000    6.623500   \n",
       "max     88.976200  100.000000   27.740000    1.000000    0.871000    8.780000   \n",
       "\n",
       "              AGE         DIS         RAD         TAX     PTRATIO           B  \\\n",
       "count  506.000000  506.000000  506.000000  506.000000  506.000000  506.000000   \n",
       "mean    68.574901    3.795043    9.549407  408.237154   18.455534  356.674032   \n",
       "std     28.148861    2.105710    8.707259  168.537116    2.164946   91.294864   \n",
       "min      2.900000    1.129600    1.000000  187.000000   12.600000    0.320000   \n",
       "25%     45.025000    2.100175    4.000000  279.000000   17.400000  375.377500   \n",
       "50%     77.500000    3.207450    5.000000  330.000000   19.050000  391.440000   \n",
       "75%     94.075000    5.188425   24.000000  666.000000   20.200000  396.225000   \n",
       "max    100.000000   12.126500   24.000000  711.000000   22.000000  396.900000   \n",
       "\n",
       "            LSTAT        MEDV  \n",
       "count  506.000000  506.000000  \n",
       "mean    12.653063   22.532806  \n",
       "std      7.141062    9.197104  \n",
       "min      1.730000    5.000000  \n",
       "25%      6.950000   17.025000  \n",
       "50%     11.360000   21.200000  \n",
       "75%     16.955000   25.000000  \n",
       "max     37.970000   50.000000  "
      ]
     },
     "execution_count": 37,
     "metadata": {},
     "output_type": "execute_result"
    }
   ],
   "source": [
    "df.describe()"
   ]
  },
  {
   "cell_type": "code",
   "execution_count": 38,
   "metadata": {
    "colab": {
     "base_uri": "https://localhost:8080/"
    },
    "executionInfo": {
     "elapsed": 38,
     "status": "ok",
     "timestamp": 1683562228233,
     "user": {
      "displayName": "Abhishek Kumar Singh",
      "userId": "15420459957370696427"
     },
     "user_tz": -330
    },
    "id": "5A9lcZ21FGLO",
    "outputId": "f77a054c-0882-4181-cb17-894f7a4d045c"
   },
   "outputs": [
    {
     "data": {
      "text/plain": [
       "CRIM       0\n",
       "ZN         0\n",
       "INDUS      0\n",
       "CHAS       0\n",
       "NOX        0\n",
       "RM         0\n",
       "AGE        0\n",
       "DIS        0\n",
       "RAD        0\n",
       "TAX        0\n",
       "PTRATIO    0\n",
       "B          0\n",
       "LSTAT      0\n",
       "MEDV       0\n",
       "dtype: int64"
      ]
     },
     "execution_count": 38,
     "metadata": {},
     "output_type": "execute_result"
    }
   ],
   "source": [
    "df.isnull().sum()"
   ]
  },
  {
   "cell_type": "code",
   "execution_count": 48,
   "metadata": {
    "colab": {
     "base_uri": "https://localhost:8080/",
     "height": 545
    },
    "executionInfo": {
     "elapsed": 4667,
     "status": "ok",
     "timestamp": 1683562602778,
     "user": {
      "displayName": "Abhishek Kumar Singh",
      "userId": "15420459957370696427"
     },
     "user_tz": -330
    },
    "id": "5mL3U0kOFq14",
    "outputId": "6acd0fed-5597-4b07-c4d9-5b6f407984ad"
   },
   "outputs": [
    {
     "data": {
      "text/plain": [
       "<Axes: >"
      ]
     },
     "execution_count": 48,
     "metadata": {},
     "output_type": "execute_result"
    },
    {
     "data": {
      "image/png": "[encoded data removed]",
      "text/plain": [
       "<Figure size 1400x600 with 2 Axes>"
      ]
     },
     "metadata": {},
     "output_type": "display_data"
    }
   ],
   "source": [
    "corr = df.corr().abs()\n",
    "\n",
    "plt.figure(figsize=(14, 6))\n",
    "sns.heatmap(corr, annot=True)"
   ]
  },
  {
   "cell_type": "code",
   "execution_count": 49,
   "metadata": {
    "executionInfo": {
     "elapsed": 1228,
     "status": "ok",
     "timestamp": 1683562669780,
     "user": {
      "displayName": "Abhishek Kumar Singh",
      "userId": "15420459957370696427"
     },
     "user_tz": -330
    },
    "id": "LpD9ZnHUISZR"
   },
   "outputs": [],
   "source": [
    "X = df.drop('MEDV', axis=1)\n",
    "y = df['MEDV']"
   ]
  },
  {
   "cell_type": "code",
   "execution_count": 50,
   "metadata": {
    "executionInfo": {
     "elapsed": 7,
     "status": "ok",
     "timestamp": 1683562712197,
     "user": {
      "displayName": "Abhishek Kumar Singh",
      "userId": "15420459957370696427"
     },
     "user_tz": -330
    },
    "id": "rvHfAuWnJ55E"
   },
   "outputs": [],
   "source": [
    "X_train, X_test, y_train, y_test = train_test_split(X, y, test_size=0.25, random_state=42)"
   ]
  },
  {
   "cell_type": "code",
   "execution_count": 52,
   "metadata": {
    "executionInfo": {
     "elapsed": 747,
     "status": "ok",
     "timestamp": 1683562955661,
     "user": {
      "displayName": "Abhishek Kumar Singh",
      "userId": "15420459957370696427"
     },
     "user_tz": -330
    },
    "id": "RkppSt-9KEFL"
   },
   "outputs": [],
   "source": [
    "model = Sequential()\n",
    "model.add(Dense(128, activation='relu', input_shape=(13,), name='dense_1'))\n",
    "model.add(Dense(64, activation='relu', name='dense_2'))\n",
    "model.add(Dense(32, activation='relu', name='dense_3'))\n",
    "model.add(Dense(1, activation='relu', name='dense_output'))\n",
    "\n",
    "model.compile(loss='mse', optimizer='adam', metrics=['mae'])"
   ]
  },
  {
   "cell_type": "code",
   "execution_count": 53,
   "metadata": {
    "colab": {
     "base_uri": "https://localhost:8080/"
    },
    "executionInfo": {
     "elapsed": 1715,
     "status": "ok",
     "timestamp": 1683562973988,
     "user": {
      "displayName": "Abhishek Kumar Singh",
      "userId": "15420459957370696427"
     },
     "user_tz": -330
    },
    "id": "4Luv7r9yK9Dn",
    "outputId": "da85b807-bd87-40c6-cc41-f5ce1e775c4b"
   },
   "outputs": [
    {
     "name": "stdout",
     "output_type": "stream",
     "text": [
      "Model: \"sequential_1\"\n",
      "_________________________________________________________________\n",
      " Layer (type)                Output Shape              Param #   \n",
      "=================================================================\n",
      " dense_1 (Dense)             (None, 128)               1792      \n",
      "                                                                 \n",
      " dense_2 (Dense)             (None, 64)                8256      \n",
      "                                                                 \n",
      " dense_3 (Dense)             (None, 32)                2080      \n",
      "                                                                 \n",
      " dense_output (Dense)        (None, 1)                 33        \n",
      "                                                                 \n",
      "=================================================================\n",
      "Total params: 12,161\n",
      "Trainable params: 12,161\n",
      "Non-trainable params: 0\n",
      "_________________________________________________________________\n"
     ]
    }
   ],
   "source": [
    "model.summary()"
   ]
  },
  {
   "cell_type": "code",
   "execution_count": 80,
   "metadata": {
    "colab": {
     "base_uri": "https://localhost:8080/"
    },
    "executionInfo": {
     "elapsed": 10489,
     "status": "ok",
     "timestamp": 1683565565182,
     "user": {
      "displayName": "Abhishek Kumar Singh",
      "userId": "15420459957370696427"
     },
     "user_tz": -330
    },
    "id": "TrDbhhhoLDtI",
    "outputId": "f0d7811d-ad5a-438a-c843-539daf5f7dc4"
   },
   "outputs": [
    {
     "name": "stdout",
     "output_type": "stream",
     "text": [
      "Epoch 1/100\n",
      "5/5 [==============================] - 0s 40ms/step - loss: 0.1133 - mae: 0.2574 - val_loss: 15.4194 - val_mae: 2.5753\n",
      "Epoch 2/100\n",
      "5/5 [==============================] - 0s 20ms/step - loss: 0.0974 - mae: 0.2213 - val_loss: 14.8921 - val_mae: 2.5613\n",
      "Epoch 3/100\n",
      "5/5 [==============================] - 0s 20ms/step - loss: 0.0990 - mae: 0.2403 - val_loss: 14.9547 - val_mae: 2.5205\n",
      "Epoch 4/100\n",
      "5/5 [==============================] - 0s 20ms/step - loss: 0.0660 - mae: 0.1948 - val_loss: 15.0042 - val_mae: 2.5676\n",
      "Epoch 5/100\n",
      "5/5 [==============================] - 0s 23ms/step - loss: 0.0762 - mae: 0.1953 - val_loss: 15.1968 - val_mae: 2.5636\n",
      "Epoch 6/100\n",
      "5/5 [==============================] - 0s 20ms/step - loss: 0.0701 - mae: 0.1936 - val_loss: 14.8354 - val_mae: 2.4904\n",
      "Epoch 7/100\n",
      "5/5 [==============================] - 0s 16ms/step - loss: 0.0833 - mae: 0.2207 - val_loss: 15.2498 - val_mae: 2.5620\n",
      "Epoch 8/100\n",
      "5/5 [==============================] - 0s 18ms/step - loss: 0.1035 - mae: 0.2571 - val_loss: 14.9847 - val_mae: 2.5489\n",
      "Epoch 9/100\n",
      "5/5 [==============================] - 0s 22ms/step - loss: 0.0928 - mae: 0.2298 - val_loss: 14.6162 - val_mae: 2.5020\n",
      "Epoch 10/100\n",
      "5/5 [==============================] - 0s 20ms/step - loss: 0.0829 - mae: 0.2142 - val_loss: 14.8176 - val_mae: 2.5153\n",
      "Epoch 11/100\n",
      "5/5 [==============================] - 0s 20ms/step - loss: 0.0614 - mae: 0.1699 - val_loss: 14.5805 - val_mae: 2.5087\n",
      "Epoch 12/100\n",
      "5/5 [==============================] - 0s 20ms/step - loss: 0.0547 - mae: 0.1739 - val_loss: 15.0596 - val_mae: 2.5506\n",
      "Epoch 13/100\n",
      "5/5 [==============================] - 0s 20ms/step - loss: 0.0517 - mae: 0.1679 - val_loss: 14.7586 - val_mae: 2.5137\n",
      "Epoch 14/100\n",
      "5/5 [==============================] - 0s 20ms/step - loss: 0.0702 - mae: 0.1887 - val_loss: 15.5110 - val_mae: 2.6093\n",
      "Epoch 15/100\n",
      "5/5 [==============================] - 0s 24ms/step - loss: 0.0896 - mae: 0.2345 - val_loss: 15.1590 - val_mae: 2.5726\n",
      "Epoch 16/100\n",
      "5/5 [==============================] - 0s 21ms/step - loss: 0.0918 - mae: 0.2189 - val_loss: 15.0722 - val_mae: 2.5323\n",
      "Epoch 17/100\n",
      "5/5 [==============================] - 0s 21ms/step - loss: 0.1018 - mae: 0.2427 - val_loss: 14.1966 - val_mae: 2.4980\n",
      "Epoch 18/100\n",
      "5/5 [==============================] - 0s 19ms/step - loss: 0.0710 - mae: 0.2061 - val_loss: 15.1232 - val_mae: 2.5434\n",
      "Epoch 19/100\n",
      "5/5 [==============================] - 0s 31ms/step - loss: 0.0955 - mae: 0.2478 - val_loss: 14.5683 - val_mae: 2.4925\n",
      "Epoch 20/100\n",
      "5/5 [==============================] - 0s 21ms/step - loss: 0.0974 - mae: 0.2440 - val_loss: 15.2056 - val_mae: 2.5941\n",
      "Epoch 21/100\n",
      "5/5 [==============================] - 0s 19ms/step - loss: 0.1158 - mae: 0.2642 - val_loss: 14.9462 - val_mae: 2.5058\n",
      "Epoch 22/100\n",
      "5/5 [==============================] - 0s 17ms/step - loss: 0.0987 - mae: 0.2435 - val_loss: 15.0161 - val_mae: 2.5415\n",
      "Epoch 23/100\n",
      "5/5 [==============================] - 0s 16ms/step - loss: 0.0835 - mae: 0.2178 - val_loss: 15.1125 - val_mae: 2.5433\n",
      "Epoch 24/100\n",
      "5/5 [==============================] - 0s 21ms/step - loss: 0.0597 - mae: 0.1838 - val_loss: 15.0656 - val_mae: 2.5384\n",
      "Epoch 25/100\n",
      "5/5 [==============================] - 0s 21ms/step - loss: 0.0414 - mae: 0.1484 - val_loss: 15.0434 - val_mae: 2.5360\n",
      "Epoch 26/100\n",
      "5/5 [==============================] - 0s 20ms/step - loss: 0.0469 - mae: 0.1509 - val_loss: 15.2590 - val_mae: 2.5486\n",
      "Epoch 27/100\n",
      "5/5 [==============================] - 0s 17ms/step - loss: 0.0447 - mae: 0.1417 - val_loss: 14.8721 - val_mae: 2.5376\n",
      "Epoch 28/100\n",
      "5/5 [==============================] - 0s 20ms/step - loss: 0.0900 - mae: 0.2078 - val_loss: 15.4200 - val_mae: 2.5835\n",
      "Epoch 29/100\n",
      "5/5 [==============================] - 0s 21ms/step - loss: 0.1500 - mae: 0.2789 - val_loss: 14.9570 - val_mae: 2.5368\n",
      "Epoch 30/100\n",
      "5/5 [==============================] - 0s 21ms/step - loss: 0.1579 - mae: 0.2613 - val_loss: 14.8473 - val_mae: 2.5554\n",
      "Epoch 31/100\n",
      "5/5 [==============================] - 0s 24ms/step - loss: 0.2195 - mae: 0.3666 - val_loss: 15.5785 - val_mae: 2.5923\n",
      "Epoch 32/100\n",
      "5/5 [==============================] - 0s 16ms/step - loss: 0.2777 - mae: 0.4167 - val_loss: 15.0914 - val_mae: 2.6505\n",
      "Epoch 33/100\n",
      "5/5 [==============================] - 0s 12ms/step - loss: 0.2799 - mae: 0.4132 - val_loss: 14.7821 - val_mae: 2.4980\n",
      "Epoch 34/100\n",
      "5/5 [==============================] - 0s 16ms/step - loss: 0.3188 - mae: 0.4264 - val_loss: 14.6705 - val_mae: 2.5520\n",
      "Epoch 35/100\n",
      "5/5 [==============================] - 0s 16ms/step - loss: 0.3441 - mae: 0.4464 - val_loss: 14.6202 - val_mae: 2.4662\n",
      "Epoch 36/100\n",
      "5/5 [==============================] - 0s 12ms/step - loss: 0.4129 - mae: 0.4926 - val_loss: 14.5674 - val_mae: 2.4711\n",
      "Epoch 37/100\n",
      "5/5 [==============================] - 0s 12ms/step - loss: 0.6021 - mae: 0.6148 - val_loss: 14.0191 - val_mae: 2.5135\n",
      "Epoch 38/100\n",
      "5/5 [==============================] - 0s 16ms/step - loss: 0.5320 - mae: 0.5601 - val_loss: 15.2423 - val_mae: 2.5734\n",
      "Epoch 39/100\n",
      "5/5 [==============================] - 0s 12ms/step - loss: 0.4220 - mae: 0.5054 - val_loss: 14.7476 - val_mae: 2.5625\n",
      "Epoch 40/100\n",
      "5/5 [==============================] - 0s 16ms/step - loss: 0.5418 - mae: 0.5011 - val_loss: 15.1174 - val_mae: 2.4840\n",
      "Epoch 41/100\n",
      "5/5 [==============================] - 0s 16ms/step - loss: 0.4069 - mae: 0.4958 - val_loss: 14.9671 - val_mae: 2.5989\n",
      "Epoch 42/100\n",
      "5/5 [==============================] - 0s 16ms/step - loss: 0.4435 - mae: 0.5142 - val_loss: 15.1590 - val_mae: 2.4799\n",
      "Epoch 43/100\n",
      "5/5 [==============================] - 0s 17ms/step - loss: 0.4010 - mae: 0.4769 - val_loss: 14.5117 - val_mae: 2.5201\n",
      "Epoch 44/100\n",
      "5/5 [==============================] - 0s 16ms/step - loss: 0.3820 - mae: 0.4721 - val_loss: 14.6173 - val_mae: 2.5029\n",
      "Epoch 45/100\n",
      "5/5 [==============================] - 0s 17ms/step - loss: 0.3058 - mae: 0.4151 - val_loss: 13.4875 - val_mae: 2.3835\n",
      "Epoch 46/100\n",
      "5/5 [==============================] - 0s 17ms/step - loss: 0.2826 - mae: 0.4018 - val_loss: 16.2422 - val_mae: 2.6089\n",
      "Epoch 47/100\n",
      "5/5 [==============================] - 0s 16ms/step - loss: 0.2679 - mae: 0.3633 - val_loss: 14.2810 - val_mae: 2.4896\n",
      "Epoch 48/100\n",
      "5/5 [==============================] - 0s 17ms/step - loss: 0.2806 - mae: 0.3851 - val_loss: 15.7324 - val_mae: 2.5016\n",
      "Epoch 49/100\n",
      "5/5 [==============================] - 0s 12ms/step - loss: 0.4330 - mae: 0.4824 - val_loss: 14.9294 - val_mae: 2.6125\n",
      "Epoch 50/100\n",
      "5/5 [==============================] - 0s 18ms/step - loss: 0.6004 - mae: 0.5989 - val_loss: 15.4284 - val_mae: 2.4817\n",
      "Epoch 51/100\n",
      "5/5 [==============================] - 0s 16ms/step - loss: 0.9147 - mae: 0.7594 - val_loss: 16.1674 - val_mae: 2.8025\n",
      "Epoch 52/100\n",
      "5/5 [==============================] - 0s 14ms/step - loss: 0.7177 - mae: 0.6284 - val_loss: 16.1675 - val_mae: 2.6045\n",
      "Epoch 53/100\n",
      "5/5 [==============================] - 0s 16ms/step - loss: 0.8705 - mae: 0.7243 - val_loss: 14.6922 - val_mae: 2.5294\n",
      "Epoch 54/100\n",
      "5/5 [==============================] - 0s 13ms/step - loss: 0.5201 - mae: 0.5722 - val_loss: 16.0866 - val_mae: 2.5368\n",
      "Epoch 55/100\n",
      "5/5 [==============================] - 0s 12ms/step - loss: 0.4287 - mae: 0.4880 - val_loss: 14.9302 - val_mae: 2.5810\n",
      "Epoch 56/100\n",
      "5/5 [==============================] - 0s 14ms/step - loss: 0.4675 - mae: 0.5237 - val_loss: 14.3800 - val_mae: 2.4610\n",
      "Epoch 57/100\n",
      "5/5 [==============================] - 0s 14ms/step - loss: 0.5077 - mae: 0.5450 - val_loss: 14.7985 - val_mae: 2.6559\n",
      "Epoch 58/100\n",
      "5/5 [==============================] - 0s 15ms/step - loss: 0.6582 - mae: 0.6122 - val_loss: 15.1092 - val_mae: 2.4473\n",
      "Epoch 59/100\n",
      "5/5 [==============================] - 0s 17ms/step - loss: 0.6102 - mae: 0.5912 - val_loss: 14.8324 - val_mae: 2.5429\n",
      "Epoch 60/100\n",
      "5/5 [==============================] - 0s 12ms/step - loss: 0.4011 - mae: 0.4924 - val_loss: 15.6396 - val_mae: 2.6819\n",
      "Epoch 61/100\n",
      "5/5 [==============================] - 0s 17ms/step - loss: 0.5429 - mae: 0.5655 - val_loss: 13.9205 - val_mae: 2.4168\n",
      "Epoch 62/100\n",
      "5/5 [==============================] - 0s 17ms/step - loss: 0.5620 - mae: 0.5308 - val_loss: 15.1227 - val_mae: 2.5052\n",
      "Epoch 63/100\n",
      "5/5 [==============================] - 0s 17ms/step - loss: 0.6178 - mae: 0.5321 - val_loss: 15.4687 - val_mae: 2.6040\n",
      "Epoch 64/100\n",
      "5/5 [==============================] - 0s 16ms/step - loss: 0.7821 - mae: 0.5968 - val_loss: 14.6597 - val_mae: 2.5985\n",
      "Epoch 65/100\n",
      "5/5 [==============================] - 0s 12ms/step - loss: 0.7985 - mae: 0.6284 - val_loss: 13.1484 - val_mae: 2.4382\n",
      "Epoch 66/100\n",
      "5/5 [==============================] - 0s 13ms/step - loss: 0.8642 - mae: 0.7063 - val_loss: 14.9393 - val_mae: 2.4742\n",
      "Epoch 67/100\n",
      "5/5 [==============================] - 0s 13ms/step - loss: 0.9204 - mae: 0.7369 - val_loss: 15.2039 - val_mae: 2.6430\n",
      "Epoch 68/100\n",
      "5/5 [==============================] - 0s 16ms/step - loss: 0.7646 - mae: 0.6420 - val_loss: 15.2423 - val_mae: 2.5416\n",
      "Epoch 69/100\n",
      "5/5 [==============================] - 0s 13ms/step - loss: 0.4499 - mae: 0.4944 - val_loss: 14.6744 - val_mae: 2.4592\n",
      "Epoch 70/100\n",
      "5/5 [==============================] - 0s 12ms/step - loss: 0.4438 - mae: 0.4709 - val_loss: 13.6161 - val_mae: 2.3532\n",
      "Epoch 71/100\n",
      "5/5 [==============================] - 0s 17ms/step - loss: 0.6348 - mae: 0.6267 - val_loss: 14.9986 - val_mae: 2.5182\n",
      "Epoch 72/100\n",
      "5/5 [==============================] - 0s 19ms/step - loss: 0.6359 - mae: 0.6155 - val_loss: 15.6179 - val_mae: 2.6466\n",
      "Epoch 73/100\n",
      "5/5 [==============================] - 0s 13ms/step - loss: 0.8547 - mae: 0.7167 - val_loss: 15.2056 - val_mae: 2.5504\n",
      "Epoch 74/100\n",
      "5/5 [==============================] - 0s 16ms/step - loss: 0.8304 - mae: 0.7031 - val_loss: 14.6211 - val_mae: 2.4805\n",
      "Epoch 75/100\n",
      "5/5 [==============================] - 0s 17ms/step - loss: 0.5347 - mae: 0.5358 - val_loss: 14.8443 - val_mae: 2.6238\n",
      "Epoch 76/100\n",
      "5/5 [==============================] - 0s 16ms/step - loss: 0.6731 - mae: 0.5730 - val_loss: 14.3453 - val_mae: 2.4815\n",
      "Epoch 77/100\n",
      "5/5 [==============================] - 0s 17ms/step - loss: 0.6287 - mae: 0.5262 - val_loss: 15.5550 - val_mae: 2.5788\n",
      "Epoch 78/100\n",
      "5/5 [==============================] - 0s 13ms/step - loss: 0.8021 - mae: 0.6737 - val_loss: 14.5665 - val_mae: 2.5048\n",
      "Epoch 79/100\n",
      "5/5 [==============================] - 0s 15ms/step - loss: 0.7747 - mae: 0.7146 - val_loss: 15.0509 - val_mae: 2.5935\n",
      "Epoch 80/100\n",
      "5/5 [==============================] - 0s 14ms/step - loss: 0.5752 - mae: 0.5549 - val_loss: 14.8959 - val_mae: 2.6394\n",
      "Epoch 81/100\n",
      "5/5 [==============================] - 0s 16ms/step - loss: 0.5691 - mae: 0.5530 - val_loss: 14.2302 - val_mae: 2.4364\n",
      "Epoch 82/100\n",
      "5/5 [==============================] - 0s 12ms/step - loss: 0.5564 - mae: 0.5525 - val_loss: 16.2601 - val_mae: 2.5842\n",
      "Epoch 83/100\n",
      "5/5 [==============================] - 0s 12ms/step - loss: 0.6424 - mae: 0.6121 - val_loss: 13.3017 - val_mae: 2.4064\n",
      "Epoch 84/100\n",
      "5/5 [==============================] - 0s 12ms/step - loss: 0.5354 - mae: 0.5601 - val_loss: 17.2309 - val_mae: 2.7580\n",
      "Epoch 85/100\n",
      "5/5 [==============================] - 0s 18ms/step - loss: 0.5407 - mae: 0.5632 - val_loss: 14.4165 - val_mae: 2.5144\n",
      "Epoch 86/100\n",
      "5/5 [==============================] - 0s 12ms/step - loss: 0.3963 - mae: 0.4603 - val_loss: 15.2622 - val_mae: 2.5130\n",
      "Epoch 87/100\n",
      "5/5 [==============================] - 0s 11ms/step - loss: 0.2858 - mae: 0.3888 - val_loss: 14.0804 - val_mae: 2.4799\n",
      "Epoch 88/100\n",
      "5/5 [==============================] - 0s 16ms/step - loss: 0.2717 - mae: 0.3834 - val_loss: 14.3434 - val_mae: 2.4553\n",
      "Epoch 89/100\n",
      "5/5 [==============================] - 0s 16ms/step - loss: 0.1893 - mae: 0.3327 - val_loss: 14.9788 - val_mae: 2.6215\n",
      "Epoch 90/100\n",
      "5/5 [==============================] - 0s 16ms/step - loss: 0.1782 - mae: 0.3355 - val_loss: 15.0214 - val_mae: 2.5000\n",
      "Epoch 91/100\n",
      "5/5 [==============================] - 0s 16ms/step - loss: 0.1513 - mae: 0.2829 - val_loss: 14.7513 - val_mae: 2.5432\n",
      "Epoch 92/100\n",
      "5/5 [==============================] - 0s 12ms/step - loss: 0.1168 - mae: 0.2473 - val_loss: 14.8059 - val_mae: 2.5081\n",
      "Epoch 93/100\n",
      "5/5 [==============================] - 0s 13ms/step - loss: 0.1576 - mae: 0.3105 - val_loss: 15.7644 - val_mae: 2.6604\n",
      "Epoch 94/100\n",
      "5/5 [==============================] - 0s 12ms/step - loss: 0.3059 - mae: 0.4164 - val_loss: 15.9981 - val_mae: 2.6403\n",
      "Epoch 95/100\n",
      "5/5 [==============================] - 0s 17ms/step - loss: 0.2791 - mae: 0.4237 - val_loss: 14.5992 - val_mae: 2.5018\n",
      "Epoch 96/100\n",
      "5/5 [==============================] - 0s 13ms/step - loss: 0.2923 - mae: 0.4264 - val_loss: 14.5834 - val_mae: 2.4724\n",
      "Epoch 97/100\n",
      "5/5 [==============================] - 0s 13ms/step - loss: 0.2998 - mae: 0.4318 - val_loss: 14.7011 - val_mae: 2.5497\n",
      "Epoch 98/100\n",
      "5/5 [==============================] - 0s 12ms/step - loss: 0.3919 - mae: 0.4789 - val_loss: 16.2288 - val_mae: 2.7175\n",
      "Epoch 99/100\n",
      "5/5 [==============================] - 0s 13ms/step - loss: 0.3632 - mae: 0.4640 - val_loss: 15.7057 - val_mae: 2.5677\n",
      "Epoch 100/100\n",
      "5/5 [==============================] - 0s 13ms/step - loss: 0.2650 - mae: 0.4000 - val_loss: 15.1882 - val_mae: 2.5128\n"
     ]
    }
   ],
   "source": [
    "history = model.fit(X_train, y_train, epochs=100, validation_split=0.2, batch_size=64, verbose=1)"
   ]
  },
  {
   "cell_type": "code",
   "execution_count": 82,
   "metadata": {
    "colab": {
     "base_uri": "https://localhost:8080/"
    },
    "executionInfo": {
     "elapsed": 559,
     "status": "ok",
     "timestamp": 1683565587019,
     "user": {
      "displayName": "Abhishek Kumar Singh",
      "userId": "15420459957370696427"
     },
     "user_tz": -330
    },
    "id": "5gXwVjWdMD_D",
    "outputId": "703caaaf-a698-46a6-bf6d-0a9909f04525"
   },
   "outputs": [
    {
     "name": "stdout",
     "output_type": "stream",
     "text": [
      "4/4 [==============================] - 0s 4ms/step - loss: 11.0455 - mae: 2.4069\n",
      "Mean squared error : 11.045483589172363\n",
      "Mean absolute error : 2.4069254398345947\n"
     ]
    }
   ],
   "source": [
    "mse_nn, mae_nn = model.evaluate(X_test, y_test)\n",
    "print(f'Mean squared error : {mse_nn}\\nMean absolute error : {mae_nn}')"
   ]
  },
  {
   "cell_type": "code",
   "execution_count": 83,
   "metadata": {
    "colab": {
     "base_uri": "https://localhost:8080/"
    },
    "executionInfo": {
     "elapsed": 8,
     "status": "ok",
     "timestamp": 1683565588503,
     "user": {
      "displayName": "Abhishek Kumar Singh",
      "userId": "15420459957370696427"
     },
     "user_tz": -330
    },
    "id": "6n1zn_GMURU-",
    "outputId": "73c57444-6818-4b7d-bc67-de1fc7635438"
   },
   "outputs": [
    {
     "name": "stdout",
     "output_type": "stream",
     "text": [
      "4/4 [==============================] - 0s 4ms/step\n"
     ]
    },
    {
     "data": {
      "text/plain": [
       "3.3234744147310984"
      ]
     },
     "execution_count": 83,
     "metadata": {},
     "output_type": "execute_result"
    }
   ],
   "source": [
    "from sklearn.metrics import mean_squared_error\n",
    "\n",
    "y_pred = model.predict(X_test)\n",
    "mse = mean_squared_error(y_test, y_pred)**(0.5)\n",
    "mse"
   ]
  },
  {
   "cell_type": "code",
   "execution_count": 85,
   "metadata": {
    "colab": {
     "base_uri": "https://localhost:8080/"
    },
    "executionInfo": {
     "elapsed": 3,
     "status": "ok",
     "timestamp": 1683565634646,
     "user": {
      "displayName": "Abhishek Kumar Singh",
      "userId": "15420459957370696427"
     },
     "user_tz": -330
    },
    "id": "MonwVbI0UTme",
    "outputId": "ecfb21bb-612c-4cd0-d1d7-cf5c827b3020"
   },
   "outputs": [
    {
     "name": "stdout",
     "output_type": "stream",
     "text": [
      "1/1 [==============================] - 0s 35ms/step\n",
      "Predicted house price: 29.603678\n"
     ]
    }
   ],
   "source": [
    "new_input = np.array([[0.006, 18.0, 2.3, 0.0, 0.53, 6.5, 65.2, 4.0, 1.0, 296.0, 15.0, 396.9, 4.98]])\n",
    "predictions = model.predict(new_input)\n",
    "print(\"Predicted house price:\", predictions[0][0])"
   ]
  }
 ],
 "metadata": {
  "colab": {
   "authorship_tag": "ABX9TyNd2AlC0AzukNwmRYt39+W7",
   "provenance": []
  },
  "kernelspec": {
   "display_name": "Python 3 (ipykernel)",
   "language": "python",
   "name": "python3"
  },
  "language_info": {
   "codemirror_mode": {
    "name": "ipython",
    "version": 3
   },
   "file_extension": ".py",
   "mimetype": "text/x-python",
   "name": "python",
   "nbconvert_exporter": "python",
   "pygments_lexer": "ipython3",
   "version": "3.9.5"
  }
 },
 "nbformat": 4,
 "nbformat_minor": 1
}
