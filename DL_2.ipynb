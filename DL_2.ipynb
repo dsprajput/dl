{
 "cells": [
  {
   "cell_type": "code",
   "execution_count": 14,
   "metadata": {
    "executionInfo": {
     "elapsed": 710,
     "status": "ok",
     "timestamp": 1683705530410,
     "user": {
      "displayName": "Abhishek Kumar Singh",
      "userId": "15420459957370696427"
     },
     "user_tz": -330
    },
    "id": "NBYvO352q0kC"
   },
   "outputs": [],
   "source": [
    "import tensorflow as tf\n",
    "import matplotlib.pyplot as plt"
   ]
  },
  {
   "cell_type": "code",
   "execution_count": 15,
   "metadata": {
    "executionInfo": {
     "elapsed": 560,
     "status": "ok",
     "timestamp": 1683707502898,
     "user": {
      "displayName": "Abhishek Kumar Singh",
      "userId": "15420459957370696427"
     },
     "user_tz": -330
    },
    "id": "hDUHKP0GTrXv"
   },
   "outputs": [],
   "source": [
    "from keras import models, layers, optimizers\n",
    "\n",
    "from keras.preprocessing.text import Tokenizer\n",
    "from tf.keras.preprocessing.sequence import pad_sequences\n",
    "\n",
    "from sklearn import preprocessing\n",
    "\n",
    "import pandas as pd\n",
    "import numpy as np"
   ]
  },
  {
   "cell_type": "code",
   "execution_count": 16,
   "metadata": {
    "executionInfo": {
     "elapsed": 2219,
     "status": "ok",
     "timestamp": 1683707516613,
     "user": {
      "displayName": "Abhishek Kumar Singh",
      "userId": "15420459957370696427"
     },
     "user_tz": -330
    },
    "id": "YsG2-tnHlQgL"
   },
   "outputs": [],
   "source": [
    "imdb_df = pd.read_csv('IMDB Dataset.csv')"
   ]
  },
  {
   "cell_type": "code",
   "execution_count": 17,
   "metadata": {
    "executionInfo": {
     "elapsed": 2,
     "status": "ok",
     "timestamp": 1683707519287,
     "user": {
      "displayName": "Abhishek Kumar Singh",
      "userId": "15420459957370696427"
     },
     "user_tz": -330
    },
    "id": "tFMtR_RKogUE"
   },
   "outputs": [],
   "source": [
    "train_df = imdb_df.sample(frac=0.8, random_state=42)\n",
    "test_df = imdb_df.drop(train_df.index)"
   ]
  },
  {
   "cell_type": "code",
   "execution_count": 18,
   "metadata": {
    "executionInfo": {
     "elapsed": 18600,
     "status": "ok",
     "timestamp": 1683707672018,
     "user": {
      "displayName": "Abhishek Kumar Singh",
      "userId": "15420459957370696427"
     },
     "user_tz": -330
    },
    "id": "UuD0KVK3nlO9"
   },
   "outputs": [],
   "source": [
    "tokenizer = Tokenizer(num_words=10000)\n",
    "tokenizer.fit_on_texts(train_df['review'].to_list())\n",
    "\n",
    "train_seq = tokenizer.texts_to_sequences(train_df['review'].tolist())\n",
    "test_seq = tokenizer.texts_to_sequences(test_df['review'].tolist())\n",
    "\n",
    "max_len = 200\n",
    "train_data = pad_sequences(train_seq, maxlen=max_len)\n",
    "test_data = pad_sequences(test_seq, maxlen=max_len)\n",
    "\n",
    "label_encoder = preprocessing.LabelEncoder()\n",
    "train_labels = label_encoder.fit_transform(train_df['sentiment'])\n",
    "test_labels = label_encoder.fit_transform(test_df['sentiment'])"
   ]
  },
  {
   "cell_type": "code",
   "execution_count": 19,
   "metadata": {
    "colab": {
     "base_uri": "https://localhost:8080/"
    },
    "executionInfo": {
     "elapsed": 1002,
     "status": "ok",
     "timestamp": 1683707829453,
     "user": {
      "displayName": "Abhishek Kumar Singh",
      "userId": "15420459957370696427"
     },
     "user_tz": -330
    },
    "id": "OXxuiwu-oTqS",
    "outputId": "c08a610a-f654-4faf-b6b1-a22232a8ae0c"
   },
   "outputs": [
    {
     "name": "stdout",
     "output_type": "stream",
     "text": [
      "Model: \"sequential_1\"\n",
      "_________________________________________________________________\n",
      " Layer (type)                Output Shape              Param #   \n",
      "=================================================================\n",
      " embedding_1 (Embedding)     (None, 200, 64)           6400000   \n",
      "                                                                 \n",
      " flatten_1 (Flatten)         (None, 12800)             0         \n",
      "                                                                 \n",
      " dense_3 (Dense)             (None, 32)                409632    \n",
      "                                                                 \n",
      " dense_4 (Dense)             (None, 16)                528       \n",
      "                                                                 \n",
      " dense_5 (Dense)             (None, 1)                 17        \n",
      "                                                                 \n",
      "=================================================================\n",
      "Total params: 6,810,177\n",
      "Trainable params: 6,810,177\n",
      "Non-trainable params: 0\n",
      "_________________________________________________________________\n"
     ]
    }
   ],
   "source": [
    "model = models.Sequential([\n",
    "    tf.keras.layers.Embedding(100000, 64, input_length=max_len),\n",
    "    tf.keras.layers.Flatten(),\n",
    "    tf.keras.layers.Dense(32, activation='relu'),\n",
    "    tf.keras.layers.Dense(16, activation='relu'),\n",
    "    tf.keras.layers.Dense(1, activation='sigmoid')\n",
    "])\n",
    "model.summary()"
   ]
  },
  {
   "cell_type": "code",
   "execution_count": 20,
   "metadata": {
    "executionInfo": {
     "elapsed": 2,
     "status": "ok",
     "timestamp": 1683709122523,
     "user": {
      "displayName": "Abhishek Kumar Singh",
      "userId": "15420459957370696427"
     },
     "user_tz": -330
    },
    "id": "9a042keysRr_"
   },
   "outputs": [],
   "source": [
    "model.compile(loss='binary_crossentropy', optimizer='adam', metrics=['accuracy'])"
   ]
  },
  {
   "cell_type": "code",
   "execution_count": 21,
   "metadata": {
    "colab": {
     "base_uri": "https://localhost:8080/"
    },
    "executionInfo": {
     "elapsed": 1163800,
     "status": "ok",
     "timestamp": 1683710291236,
     "user": {
      "displayName": "Abhishek Kumar Singh",
      "userId": "15420459957370696427"
     },
     "user_tz": -330
    },
    "id": "eEJQl8ezsSXE",
    "outputId": "a0ada913-ddf6-4ea1-f2b3-3173365b60f5"
   },
   "outputs": [
    {
     "name": "stdout",
     "output_type": "stream",
     "text": [
      "Epoch 1/10\n",
      "1250/1250 [==============================] - 151s 120ms/step - loss: 0.3490 - accuracy: 0.8359 - val_loss: 0.2755 - val_accuracy: 0.8853\n",
      "Epoch 2/10\n",
      "1250/1250 [==============================] - 144s 115ms/step - loss: 0.0976 - accuracy: 0.9655 - val_loss: 0.4115 - val_accuracy: 0.8573\n",
      "Epoch 3/10\n",
      "1250/1250 [==============================] - 150s 120ms/step - loss: 0.0231 - accuracy: 0.9918 - val_loss: 0.5509 - val_accuracy: 0.8609\n",
      "Epoch 4/10\n",
      "1250/1250 [==============================] - 150s 120ms/step - loss: 0.0146 - accuracy: 0.9953 - val_loss: 0.6424 - val_accuracy: 0.8590\n",
      "Epoch 5/10\n",
      "1250/1250 [==============================] - 145s 116ms/step - loss: 0.0146 - accuracy: 0.9951 - val_loss: 0.6968 - val_accuracy: 0.8574\n",
      "Epoch 6/10\n",
      "1250/1250 [==============================] - 150s 120ms/step - loss: 0.0114 - accuracy: 0.9961 - val_loss: 0.7470 - val_accuracy: 0.8562\n",
      "Epoch 7/10\n",
      "1250/1250 [==============================] - 146s 117ms/step - loss: 0.0080 - accuracy: 0.9973 - val_loss: 0.9155 - val_accuracy: 0.8492\n",
      "Epoch 8/10\n",
      "1250/1250 [==============================] - 143s 114ms/step - loss: 0.0065 - accuracy: 0.9977 - val_loss: 0.9585 - val_accuracy: 0.8560\n",
      "Epoch 9/10\n",
      "1250/1250 [==============================] - 140s 112ms/step - loss: 0.0074 - accuracy: 0.9974 - val_loss: 1.0084 - val_accuracy: 0.8529\n",
      "Epoch 10/10\n",
      "1250/1250 [==============================] - 141s 113ms/step - loss: 0.0085 - accuracy: 0.9971 - val_loss: 1.0592 - val_accuracy: 0.8538\n"
     ]
    }
   ],
   "source": [
    "history = model.fit(train_data, train_labels, epochs=10, batch_size=32, validation_data=(test_data, test_labels))"
   ]
  },
  {
   "cell_type": "code",
   "execution_count": 22,
   "metadata": {
    "colab": {
     "base_uri": "https://localhost:8080/"
    },
    "executionInfo": {
     "elapsed": 2817,
     "status": "ok",
     "timestamp": 1683710310640,
     "user": {
      "displayName": "Abhishek Kumar Singh",
      "userId": "15420459957370696427"
     },
     "user_tz": -330
    },
    "id": "KS029hgWsZra",
    "outputId": "dc26f2e3-b840-4c3d-aa09-1c10fbb22b2e"
   },
   "outputs": [
    {
     "name": "stdout",
     "output_type": "stream",
     "text": [
      "313/313 [==============================] - 1s 4ms/step - loss: 1.0592 - accuracy: 0.8538\n",
      "Test loss: 1.06, Test accuracy: 85.38%\n"
     ]
    }
   ],
   "source": [
    "test_loss, test_accuracy = model.evaluate(test_data, test_labels)\n",
    "print(f'Test loss: {test_loss:.2f}, Test accuracy: {test_accuracy:.2%}')"
   ]
  },
  {
   "cell_type": "code",
   "execution_count": 23,
   "metadata": {
    "colab": {
     "base_uri": "https://localhost:8080/",
     "height": 562
    },
    "executionInfo": {
     "elapsed": 9,
     "status": "ok",
     "timestamp": 1683710310640,
     "user": {
      "displayName": "Abhishek Kumar Singh",
      "userId": "15420459957370696427"
     },
     "user_tz": -330
    },
    "id": "WdgfWW_xtSBY",
    "outputId": "a4e1e043-3f97-435a-b467-21ff87821468"
   },
   "outputs": [
    {
     "data": {
      "text/plain": [
       "Text(0.5, 1.0, 'Loss evolution')"
      ]
     },
     "execution_count": 23,
     "metadata": {},
     "output_type": "execute_result"
    },
    {
     "data": {
      "image/png": "[encoded data removed]",
      "text/plain": [
       "<Figure size 576x432 with 1 Axes>"
      ]
     },
     "metadata": {
      "needs_background": "light"
     },
     "output_type": "display_data"
    }
   ],
   "source": [
    "plt.figure(figsize=(8, 6))\n",
    "\n",
    "plt.plot(history.history['loss'], label='Loss')\n",
    "plt.plot(history.history['val_loss'], label='val_Loss')\n",
    "plt.legend()\n",
    "plt.title('Loss evolution')"
   ]
  },
  {
   "cell_type": "code",
   "execution_count": 24,
   "metadata": {
    "colab": {
     "base_uri": "https://localhost:8080/",
     "height": 562
    },
    "executionInfo": {
     "elapsed": 1019,
     "status": "ok",
     "timestamp": 1683710327734,
     "user": {
      "displayName": "Abhishek Kumar Singh",
      "userId": "15420459957370696427"
     },
     "user_tz": -330
    },
    "id": "fYTiuNaetgvp",
    "outputId": "2344bc8c-f6db-4b1c-86ae-41a6850097a4"
   },
   "outputs": [
    {
     "data": {
      "text/plain": [
       "Text(0.5, 1.0, 'Accuracy evolution')"
      ]
     },
     "execution_count": 24,
     "metadata": {},
     "output_type": "execute_result"
    },
    {
     "data": {
      "image/png": "[encoded data removed]",
      "text/plain": [
       "<Figure size 576x432 with 1 Axes>"
      ]
     },
     "metadata": {
      "needs_background": "light"
     },
     "output_type": "display_data"
    }
   ],
   "source": [
    "plt.figure(figsize=(8, 6))\n",
    "\n",
    "plt.plot(history.history['accuracy'], label='accuracy')\n",
    "plt.plot(history.history['val_accuracy'], label='val_accuracy')\n",
    "plt.legend()\n",
    "plt.title('Accuracy evolution')"
   ]
  },
  {
   "cell_type": "code",
   "execution_count": 25,
   "metadata": {
    "colab": {
     "base_uri": "https://localhost:8080/"
    },
    "executionInfo": {
     "elapsed": 3334,
     "status": "ok",
     "timestamp": 1683710388478,
     "user": {
      "displayName": "Abhishek Kumar Singh",
      "userId": "15420459957370696427"
     },
     "user_tz": -330
    },
    "id": "Bf3u4gMQfSMp",
    "outputId": "f84ba003-3514-4027-88ab-ba0d0c5b89a8"
   },
   "outputs": [
    {
     "name": "stdout",
     "output_type": "stream",
     "text": [
      "313/313 [==============================] - 1s 3ms/step\n"
     ]
    }
   ],
   "source": [
    "predictions = model.predict(test_data)"
   ]
  },
  {
   "cell_type": "code",
   "execution_count": 65,
   "metadata": {},
   "outputs": [
    {
     "name": "stdout",
     "output_type": "stream",
     "text": [
      "                                                                                i am so happy and surprised that there is so much interest in this movie jack frost was my introduction into the films produced and distributed by a entertainment and without exception everything this company deals with is pure crap first and this is very important never ever watch this movie sober why would you unlike many other bad movies this one i feel was made intentionally bad i just can't get over how fake the snowman is which is why its always shown only briefly the way it moves is the best this movie is better than the michael keaton piece of crap that was made too be a good movie and that version is as bad as this \n"
     ]
    }
   ],
   "source": [
    "reverse_word_map = dict(map(reversed, tokenizer.word_index.items()))\n",
    "reverse_word_map\n",
    "t = ''\n",
    "for i in test_data[21]:\n",
    "    t += reverse_word_map.get(i, '') + ' '\n",
    "    \n",
    "print(t)"
   ]
  },
  {
   "cell_type": "code",
   "execution_count": 64,
   "metadata": {
    "colab": {
     "base_uri": "https://localhost:8080/"
    },
    "executionInfo": {
     "elapsed": 5,
     "status": "ok",
     "timestamp": 1683710403573,
     "user": {
      "displayName": "Abhishek Kumar Singh",
      "userId": "15420459957370696427"
     },
     "user_tz": -330
    },
    "id": "2UujKsA2k20H",
    "outputId": "ad012afa-3fb8-4ec0-965f-c113da5cfb4c"
   },
   "outputs": [
    {
     "name": "stdout",
     "output_type": "stream",
     "text": [
      "[0.00012284] 0\n"
     ]
    }
   ],
   "source": [
    "print(predictions[21], test_labels[21])"
   ]
  },
  {
   "cell_type": "code",
   "execution_count": null,
   "metadata": {},
   "outputs": [],
   "source": []
  }
 ],
 "metadata": {
  "colab": {
   "authorship_tag": "ABX9TyP8ygbteIK08DkqjMMaA9ji",
   "provenance": []
  },
  "kernelspec": {
   "display_name": "Python 3 (ipykernel)",
   "language": "python",
   "name": "python3"
  },
  "language_info": {
   "codemirror_mode": {
    "name": "ipython",
    "version": 3
   },
   "file_extension": ".py",
   "mimetype": "text/x-python",
   "name": "python",
   "nbconvert_exporter": "python",
   "pygments_lexer": "ipython3",
   "version": "3.9.5"
  }
 },
 "nbformat": 4,
 "nbformat_minor": 1
}
