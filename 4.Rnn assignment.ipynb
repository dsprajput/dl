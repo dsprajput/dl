{
 "cells": [
  {
   "cell_type": "code",
   "execution_count": 1,
   "metadata": {},
   "outputs": [],
   "source": [
    "#Digvijay Singh\n",
    "#Assignment_4(RNN)\n",
    "#3415"
   ]
  },
  {
   "cell_type": "code",
   "execution_count": 2,
   "metadata": {
    "_cell_guid": "b1076dfc-b9ad-4769-8c92-a6c4dae69d19",
    "_uuid": "8f2839f25d086af736a60e9eeb907d3b93b6e0e5",
    "colab": {
     "base_uri": "https://localhost:8080/"
    },
    "executionInfo": {
     "elapsed": 1287,
     "status": "ok",
     "timestamp": 1683661731636,
     "user": {
      "displayName": "Ankit Kumar",
      "userId": "08027391101207374728"
     },
     "user_tz": -330
    },
    "id": "0m9tYPjc7Zkr",
    "outputId": "51a018ce-1f12-4899-b85d-30dcbec780b7"
   },
   "outputs": [],
   "source": [
    "import numpy as np \n",
    "import pandas as pd \n",
    "import matplotlib.pyplot as plt\n",
    "import warnings\n"
   ]
  },
  {
   "cell_type": "code",
   "execution_count": 3,
   "metadata": {
    "executionInfo": {
     "elapsed": 550,
     "status": "ok",
     "timestamp": 1683661854469,
     "user": {
      "displayName": "Ankit Kumar",
      "userId": "08027391101207374728"
     },
     "user_tz": -330
    },
    "id": "dGApc23kD5cx"
   },
   "outputs": [],
   "source": [
    "base = \"data/Recurrent Neural Network\""
   ]
  },
  {
   "cell_type": "code",
   "execution_count": 4,
   "metadata": {
    "executionInfo": {
     "elapsed": 830,
     "status": "ok",
     "timestamp": 1683661872885,
     "user": {
      "displayName": "Ankit Kumar",
      "userId": "08027391101207374728"
     },
     "user_tz": -330
    },
    "id": "bV0YY3du7Zkt"
   },
   "outputs": [],
   "source": [
    "train_data = pd.read_csv(base+\"/Stock_Price_Train.csv\")"
   ]
  },
  {
   "cell_type": "code",
   "execution_count": 5,
   "metadata": {
    "colab": {
     "base_uri": "https://localhost:8080/",
     "height": 206
    },
    "executionInfo": {
     "elapsed": 574,
     "status": "ok",
     "timestamp": 1683661878230,
     "user": {
      "displayName": "Ankit Kumar",
      "userId": "08027391101207374728"
     },
     "user_tz": -330
    },
    "id": "s8B-oVlu7Zku",
    "outputId": "1a22969e-fb00-43f0-a5b6-32df0dad6be3"
   },
   "outputs": [
    {
     "data": {
      "text/html": [
       "<div>\n",
       "<style scoped>\n",
       "    .dataframe tbody tr th:only-of-type {\n",
       "        vertical-align: middle;\n",
       "    }\n",
       "\n",
       "    .dataframe tbody tr th {\n",
       "        vertical-align: top;\n",
       "    }\n",
       "\n",
       "    .dataframe thead th {\n",
       "        text-align: right;\n",
       "    }\n",
       "</style>\n",
       "<table border=\"1\" class=\"dataframe\">\n",
       "  <thead>\n",
       "    <tr style=\"text-align: right;\">\n",
       "      <th></th>\n",
       "      <th>Date</th>\n",
       "      <th>Open</th>\n",
       "      <th>High</th>\n",
       "      <th>Low</th>\n",
       "      <th>Close</th>\n",
       "      <th>Volume</th>\n",
       "    </tr>\n",
       "  </thead>\n",
       "  <tbody>\n",
       "    <tr>\n",
       "      <th>0</th>\n",
       "      <td>1/3/2012</td>\n",
       "      <td>325.25</td>\n",
       "      <td>332.83</td>\n",
       "      <td>324.97</td>\n",
       "      <td>663.59</td>\n",
       "      <td>7,380,500</td>\n",
       "    </tr>\n",
       "    <tr>\n",
       "      <th>1</th>\n",
       "      <td>1/4/2012</td>\n",
       "      <td>331.27</td>\n",
       "      <td>333.87</td>\n",
       "      <td>329.08</td>\n",
       "      <td>666.45</td>\n",
       "      <td>5,749,400</td>\n",
       "    </tr>\n",
       "    <tr>\n",
       "      <th>2</th>\n",
       "      <td>1/5/2012</td>\n",
       "      <td>329.83</td>\n",
       "      <td>330.75</td>\n",
       "      <td>326.89</td>\n",
       "      <td>657.21</td>\n",
       "      <td>6,590,300</td>\n",
       "    </tr>\n",
       "    <tr>\n",
       "      <th>3</th>\n",
       "      <td>1/6/2012</td>\n",
       "      <td>328.34</td>\n",
       "      <td>328.77</td>\n",
       "      <td>323.68</td>\n",
       "      <td>648.24</td>\n",
       "      <td>5,405,900</td>\n",
       "    </tr>\n",
       "    <tr>\n",
       "      <th>4</th>\n",
       "      <td>1/9/2012</td>\n",
       "      <td>322.04</td>\n",
       "      <td>322.29</td>\n",
       "      <td>309.46</td>\n",
       "      <td>620.76</td>\n",
       "      <td>11,688,800</td>\n",
       "    </tr>\n",
       "  </tbody>\n",
       "</table>\n",
       "</div>"
      ],
      "text/plain": [
       "       Date    Open    High     Low   Close      Volume\n",
       "0  1/3/2012  325.25  332.83  324.97  663.59   7,380,500\n",
       "1  1/4/2012  331.27  333.87  329.08  666.45   5,749,400\n",
       "2  1/5/2012  329.83  330.75  326.89  657.21   6,590,300\n",
       "3  1/6/2012  328.34  328.77  323.68  648.24   5,405,900\n",
       "4  1/9/2012  322.04  322.29  309.46  620.76  11,688,800"
      ]
     },
     "execution_count": 5,
     "metadata": {},
     "output_type": "execute_result"
    }
   ],
   "source": [
    "train_data.head()"
   ]
  },
  {
   "cell_type": "code",
   "execution_count": 6,
   "metadata": {
    "executionInfo": {
     "elapsed": 544,
     "status": "ok",
     "timestamp": 1683661883911,
     "user": {
      "displayName": "Ankit Kumar",
      "userId": "08027391101207374728"
     },
     "user_tz": -330
    },
    "id": "2xyTO3ju7Zkv"
   },
   "outputs": [],
   "source": [
    "train = train_data.loc[:,['Open']].values\n"
   ]
  },
  {
   "cell_type": "code",
   "execution_count": 7,
   "metadata": {
    "colab": {
     "base_uri": "https://localhost:8080/"
    },
    "executionInfo": {
     "elapsed": 2,
     "status": "ok",
     "timestamp": 1683661884499,
     "user": {
      "displayName": "Ankit Kumar",
      "userId": "08027391101207374728"
     },
     "user_tz": -330
    },
    "id": "cFyhJ1rF7Zkw",
    "outputId": "af9fa33c-ed23-4692-b079-1dfd750ff6b5"
   },
   "outputs": [
    {
     "data": {
      "text/plain": [
       "array([[325.25],\n",
       "       [331.27],\n",
       "       [329.83],\n",
       "       ...,\n",
       "       [793.7 ],\n",
       "       [783.33],\n",
       "       [782.75]])"
      ]
     },
     "execution_count": 7,
     "metadata": {},
     "output_type": "execute_result"
    }
   ],
   "source": [
    "train"
   ]
  },
  {
   "cell_type": "code",
   "execution_count": 8,
   "metadata": {
    "colab": {
     "base_uri": "https://localhost:8080/"
    },
    "executionInfo": {
     "elapsed": 551,
     "status": "ok",
     "timestamp": 1683661887628,
     "user": {
      "displayName": "Ankit Kumar",
      "userId": "08027391101207374728"
     },
     "user_tz": -330
    },
    "id": "ZMVEzLhH7Zkx",
    "outputId": "b2b0adf1-57e9-424f-dcf5-e75c95a17acb"
   },
   "outputs": [
    {
     "data": {
      "text/plain": [
       "array([[0.08581368],\n",
       "       [0.09701243],\n",
       "       [0.09433366],\n",
       "       ...,\n",
       "       [0.95725128],\n",
       "       [0.93796041],\n",
       "       [0.93688146]])"
      ]
     },
     "execution_count": 8,
     "metadata": {},
     "output_type": "execute_result"
    }
   ],
   "source": [
    "from sklearn.preprocessing import MinMaxScaler\n",
    "scaler = MinMaxScaler(feature_range = (0,1))\n",
    "train_scaled = scaler.fit_transform(train)\n",
    "train_scaled"
   ]
  },
  {
   "cell_type": "code",
   "execution_count": 9,
   "metadata": {
    "colab": {
     "base_uri": "https://localhost:8080/",
     "height": 448
    },
    "executionInfo": {
     "elapsed": 1074,
     "status": "ok",
     "timestamp": 1683661891671,
     "user": {
      "displayName": "Ankit Kumar",
      "userId": "08027391101207374728"
     },
     "user_tz": -330
    },
    "id": "4I51wiY87Zky",
    "outputId": "ffa93728-f160-4c53-99f8-9b4b6324da9e"
   },
   "outputs": [
    {
     "data": {
      "text/plain": [
       "[<matplotlib.lines.Line2D at 0x7fb918d60e80>]"
      ]
     },
     "execution_count": 9,
     "metadata": {},
     "output_type": "execute_result"
    },
    {
     "data": {
      "image/png": "[encoded data removed]",
      "text/plain": [
       "<Figure size 432x288 with 1 Axes>"
      ]
     },
     "metadata": {
      "needs_background": "light"
     },
     "output_type": "display_data"
    }
   ],
   "source": [
    "plt.plot(train_scaled)"
   ]
  },
  {
   "cell_type": "code",
   "execution_count": 10,
   "metadata": {
    "executionInfo": {
     "elapsed": 532,
     "status": "ok",
     "timestamp": 1683661901075,
     "user": {
      "displayName": "Ankit Kumar",
      "userId": "08027391101207374728"
     },
     "user_tz": -330
    },
    "id": "dkaV4koL7Zky"
   },
   "outputs": [],
   "source": [
    "X_train = []\n",
    "y_train = []\n",
    "timesteps = 50\n",
    "for i in range(timesteps, 1258):\n",
    "    X_train.append(train_scaled[i-timesteps:i, 0])\n",
    "    y_train.append(train_scaled[i, 0])\n",
    "X_train, y_train = np.array(X_train), np.array(y_train)"
   ]
  },
  {
   "cell_type": "code",
   "execution_count": 11,
   "metadata": {
    "colab": {
     "base_uri": "https://localhost:8080/"
    },
    "executionInfo": {
     "elapsed": 3,
     "status": "ok",
     "timestamp": 1683661902009,
     "user": {
      "displayName": "Ankit Kumar",
      "userId": "08027391101207374728"
     },
     "user_tz": -330
    },
    "id": "jY0veNv47Zkz",
    "outputId": "1e1223be-dd66-44f0-a57b-28bc31bb1a04"
   },
   "outputs": [
    {
     "data": {
      "text/plain": [
       "array([[[0.08581368],\n",
       "        [0.09701243],\n",
       "        [0.09433366],\n",
       "        ...,\n",
       "        [0.03675869],\n",
       "        [0.04486941],\n",
       "        [0.05065481]],\n",
       "\n",
       "       [[0.09701243],\n",
       "        [0.09433366],\n",
       "        [0.09156187],\n",
       "        ...,\n",
       "        [0.04486941],\n",
       "        [0.05065481],\n",
       "        [0.05214302]],\n",
       "\n",
       "       [[0.09433366],\n",
       "        [0.09156187],\n",
       "        [0.07984225],\n",
       "        ...,\n",
       "        [0.05065481],\n",
       "        [0.05214302],\n",
       "        [0.05612397]],\n",
       "\n",
       "       ...,\n",
       "\n",
       "       [[0.9313937 ],\n",
       "        [0.94636878],\n",
       "        [0.96569685],\n",
       "        ...,\n",
       "        [0.95475854],\n",
       "        [0.95204256],\n",
       "        [0.95163331]],\n",
       "\n",
       "       [[0.94636878],\n",
       "        [0.96569685],\n",
       "        [0.97510976],\n",
       "        ...,\n",
       "        [0.95204256],\n",
       "        [0.95163331],\n",
       "        [0.95725128]],\n",
       "\n",
       "       [[0.96569685],\n",
       "        [0.97510976],\n",
       "        [0.95966962],\n",
       "        ...,\n",
       "        [0.95163331],\n",
       "        [0.95725128],\n",
       "        [0.93796041]]])"
      ]
     },
     "execution_count": 11,
     "metadata": {},
     "output_type": "execute_result"
    }
   ],
   "source": [
    "X_train = np.reshape(X_train, (X_train.shape[0], X_train.shape[1], 1))\n",
    "X_train"
   ]
  },
  {
   "cell_type": "code",
   "execution_count": 12,
   "metadata": {
    "colab": {
     "base_uri": "https://localhost:8080/"
    },
    "executionInfo": {
     "elapsed": 4,
     "status": "ok",
     "timestamp": 1683661906031,
     "user": {
      "displayName": "Ankit Kumar",
      "userId": "08027391101207374728"
     },
     "user_tz": -330
    },
    "id": "As4jBXYF7Zk0",
    "outputId": "6762e0e2-11dd-4efa-b6f4-bca01280e887"
   },
   "outputs": [
    {
     "data": {
      "text/plain": [
       "array([0.05214302, 0.05612397, 0.05818885, ..., 0.95725128, 0.93796041,\n",
       "       0.93688146])"
      ]
     },
     "execution_count": 12,
     "metadata": {},
     "output_type": "execute_result"
    }
   ],
   "source": [
    "y_train"
   ]
  },
  {
   "cell_type": "markdown",
   "metadata": {
    "id": "04fWv2qF7Zk1"
   },
   "source": [
    "## Create the RNN Model"
   ]
  },
  {
   "cell_type": "code",
   "execution_count": 22,
   "metadata": {
    "colab": {
     "base_uri": "https://localhost:8080/"
    },
    "executionInfo": {
     "elapsed": 271138,
     "status": "ok",
     "timestamp": 1683662179744,
     "user": {
      "displayName": "Ankit Kumar",
      "userId": "08027391101207374728"
     },
     "user_tz": -330
    },
    "id": "4cT1e6T17Zk3",
    "outputId": "a7ef5aa4-88ba-44a4-c628-54d5315fbcc8"
   },
   "outputs": [
    {
     "name": "stdout",
     "output_type": "stream",
     "text": [
      "Epoch 1/200\n",
      "38/38 [==============================] - 4s 23ms/step - loss: 0.3472\n",
      "Epoch 2/200\n",
      "38/38 [==============================] - 1s 23ms/step - loss: 0.2480\n",
      "Epoch 3/200\n",
      "38/38 [==============================] - 1s 23ms/step - loss: 0.1822\n",
      "Epoch 4/200\n",
      "38/38 [==============================] - 1s 23ms/step - loss: 0.1190\n",
      "Epoch 5/200\n",
      "38/38 [==============================] - 1s 23ms/step - loss: 0.0957\n",
      "Epoch 6/200\n",
      "38/38 [==============================] - 1s 23ms/step - loss: 0.0709\n",
      "Epoch 7/200\n",
      "38/38 [==============================] - 1s 23ms/step - loss: 0.0559\n",
      "Epoch 8/200\n",
      "38/38 [==============================] - 1s 24ms/step - loss: 0.0483\n",
      "Epoch 9/200\n",
      "38/38 [==============================] - 1s 23ms/step - loss: 0.0407\n",
      "Epoch 10/200\n",
      "38/38 [==============================] - 1s 23ms/step - loss: 0.0373\n",
      "Epoch 11/200\n",
      "38/38 [==============================] - 1s 23ms/step - loss: 0.0303\n",
      "Epoch 12/200\n",
      "38/38 [==============================] - 1s 23ms/step - loss: 0.0298\n",
      "Epoch 13/200\n",
      "38/38 [==============================] - 1s 23ms/step - loss: 0.0247\n",
      "Epoch 14/200\n",
      "38/38 [==============================] - 1s 23ms/step - loss: 0.0233\n",
      "Epoch 15/200\n",
      "38/38 [==============================] - 1s 23ms/step - loss: 0.0193\n",
      "Epoch 16/200\n",
      "38/38 [==============================] - 1s 23ms/step - loss: 0.0198\n",
      "Epoch 17/200\n",
      "38/38 [==============================] - 1s 23ms/step - loss: 0.0176\n",
      "Epoch 18/200\n",
      "38/38 [==============================] - 1s 24ms/step - loss: 0.0155\n",
      "Epoch 19/200\n",
      "38/38 [==============================] - 1s 24ms/step - loss: 0.0139\n",
      "Epoch 20/200\n",
      "38/38 [==============================] - 1s 25ms/step - loss: 0.0158\n",
      "Epoch 21/200\n",
      "38/38 [==============================] - 1s 23ms/step - loss: 0.0135\n",
      "Epoch 22/200\n",
      "38/38 [==============================] - 1s 23ms/step - loss: 0.0115\n",
      "Epoch 23/200\n",
      "38/38 [==============================] - 1s 23ms/step - loss: 0.0106\n",
      "Epoch 24/200\n",
      "38/38 [==============================] - 1s 23ms/step - loss: 0.0110\n",
      "Epoch 25/200\n",
      "38/38 [==============================] - 1s 24ms/step - loss: 0.0105\n",
      "Epoch 26/200\n",
      "38/38 [==============================] - 1s 24ms/step - loss: 0.0095\n",
      "Epoch 27/200\n",
      "38/38 [==============================] - 1s 23ms/step - loss: 0.0094\n",
      "Epoch 28/200\n",
      "38/38 [==============================] - 1s 23ms/step - loss: 0.0080\n",
      "Epoch 29/200\n",
      "38/38 [==============================] - 1s 23ms/step - loss: 0.0079\n",
      "Epoch 30/200\n",
      "38/38 [==============================] - 1s 23ms/step - loss: 0.0075\n",
      "Epoch 31/200\n",
      "38/38 [==============================] - 1s 23ms/step - loss: 0.0073\n",
      "Epoch 32/200\n",
      "38/38 [==============================] - 1s 23ms/step - loss: 0.0069\n",
      "Epoch 33/200\n",
      "38/38 [==============================] - 1s 23ms/step - loss: 0.0070\n",
      "Epoch 34/200\n",
      "38/38 [==============================] - 1s 23ms/step - loss: 0.0065\n",
      "Epoch 35/200\n",
      "38/38 [==============================] - 1s 23ms/step - loss: 0.0070\n",
      "Epoch 36/200\n",
      "38/38 [==============================] - 1s 23ms/step - loss: 0.0059\n",
      "Epoch 37/200\n",
      "38/38 [==============================] - 1s 23ms/step - loss: 0.0055\n",
      "Epoch 38/200\n",
      "38/38 [==============================] - 1s 23ms/step - loss: 0.0059\n",
      "Epoch 39/200\n",
      "38/38 [==============================] - 1s 23ms/step - loss: 0.0053\n",
      "Epoch 40/200\n",
      "38/38 [==============================] - 1s 23ms/step - loss: 0.0048\n",
      "Epoch 41/200\n",
      "38/38 [==============================] - 1s 23ms/step - loss: 0.0055\n",
      "Epoch 42/200\n",
      "38/38 [==============================] - 1s 23ms/step - loss: 0.0049\n",
      "Epoch 43/200\n",
      "38/38 [==============================] - 1s 23ms/step - loss: 0.0046\n",
      "Epoch 44/200\n",
      "38/38 [==============================] - 1s 23ms/step - loss: 0.0041\n",
      "Epoch 45/200\n",
      "38/38 [==============================] - 1s 23ms/step - loss: 0.0043\n",
      "Epoch 46/200\n",
      "38/38 [==============================] - 1s 23ms/step - loss: 0.0047\n",
      "Epoch 47/200\n",
      "38/38 [==============================] - 1s 23ms/step - loss: 0.0045\n",
      "Epoch 48/200\n",
      "38/38 [==============================] - 1s 23ms/step - loss: 0.0040\n",
      "Epoch 49/200\n",
      "38/38 [==============================] - 1s 23ms/step - loss: 0.0041\n",
      "Epoch 50/200\n",
      "38/38 [==============================] - 1s 23ms/step - loss: 0.0039\n",
      "Epoch 51/200\n",
      "38/38 [==============================] - 1s 25ms/step - loss: 0.0040\n",
      "Epoch 52/200\n",
      "38/38 [==============================] - 1s 23ms/step - loss: 0.0040\n",
      "Epoch 53/200\n",
      "38/38 [==============================] - 1s 23ms/step - loss: 0.0035\n",
      "Epoch 54/200\n",
      "38/38 [==============================] - 1s 23ms/step - loss: 0.0036\n",
      "Epoch 55/200\n",
      "38/38 [==============================] - 1s 24ms/step - loss: 0.0036\n",
      "Epoch 56/200\n",
      "38/38 [==============================] - 1s 24ms/step - loss: 0.0034\n",
      "Epoch 57/200\n",
      "38/38 [==============================] - 1s 25ms/step - loss: 0.0033\n",
      "Epoch 58/200\n",
      "38/38 [==============================] - 1s 23ms/step - loss: 0.0037\n",
      "Epoch 59/200\n",
      "38/38 [==============================] - 1s 24ms/step - loss: 0.0034\n",
      "Epoch 60/200\n",
      "38/38 [==============================] - 1s 24ms/step - loss: 0.0035\n",
      "Epoch 61/200\n",
      "38/38 [==============================] - 1s 24ms/step - loss: 0.0031\n",
      "Epoch 62/200\n",
      "38/38 [==============================] - 1s 24ms/step - loss: 0.0032\n",
      "Epoch 63/200\n",
      "38/38 [==============================] - 1s 24ms/step - loss: 0.0031\n",
      "Epoch 64/200\n",
      "38/38 [==============================] - 1s 24ms/step - loss: 0.0035\n",
      "Epoch 65/200\n",
      "38/38 [==============================] - 1s 23ms/step - loss: 0.0029\n",
      "Epoch 66/200\n",
      "38/38 [==============================] - 1s 23ms/step - loss: 0.0031\n",
      "Epoch 67/200\n",
      "38/38 [==============================] - 1s 23ms/step - loss: 0.0031\n",
      "Epoch 68/200\n",
      "38/38 [==============================] - 1s 23ms/step - loss: 0.0028\n",
      "Epoch 69/200\n",
      "38/38 [==============================] - 1s 23ms/step - loss: 0.0026\n",
      "Epoch 70/200\n",
      "38/38 [==============================] - 1s 23ms/step - loss: 0.0028\n",
      "Epoch 71/200\n",
      "38/38 [==============================] - 1s 23ms/step - loss: 0.0025\n",
      "Epoch 72/200\n",
      "38/38 [==============================] - 1s 23ms/step - loss: 0.0027\n",
      "Epoch 73/200\n",
      "38/38 [==============================] - 1s 23ms/step - loss: 0.0026\n",
      "Epoch 74/200\n",
      "38/38 [==============================] - 1s 23ms/step - loss: 0.0027\n",
      "Epoch 75/200\n",
      "38/38 [==============================] - 1s 24ms/step - loss: 0.0028\n",
      "Epoch 76/200\n",
      "38/38 [==============================] - 1s 24ms/step - loss: 0.0024\n",
      "Epoch 77/200\n",
      "38/38 [==============================] - 1s 23ms/step - loss: 0.0025\n",
      "Epoch 78/200\n",
      "38/38 [==============================] - 1s 23ms/step - loss: 0.0026\n",
      "Epoch 79/200\n",
      "38/38 [==============================] - 1s 24ms/step - loss: 0.0024\n",
      "Epoch 80/200\n",
      "38/38 [==============================] - 1s 24ms/step - loss: 0.0028\n",
      "Epoch 81/200\n",
      "38/38 [==============================] - 1s 24ms/step - loss: 0.0024\n",
      "Epoch 82/200\n",
      "38/38 [==============================] - 1s 23ms/step - loss: 0.0025\n",
      "Epoch 83/200\n",
      "38/38 [==============================] - 1s 23ms/step - loss: 0.0022\n",
      "Epoch 84/200\n",
      "38/38 [==============================] - 1s 23ms/step - loss: 0.0025\n",
      "Epoch 85/200\n",
      "38/38 [==============================] - 1s 23ms/step - loss: 0.0021\n",
      "Epoch 86/200\n",
      "38/38 [==============================] - 1s 23ms/step - loss: 0.0022\n",
      "Epoch 87/200\n",
      "38/38 [==============================] - 1s 23ms/step - loss: 0.0020\n",
      "Epoch 88/200\n",
      "38/38 [==============================] - 1s 23ms/step - loss: 0.0022\n",
      "Epoch 89/200\n",
      "38/38 [==============================] - 1s 23ms/step - loss: 0.0025\n",
      "Epoch 90/200\n",
      "38/38 [==============================] - 1s 23ms/step - loss: 0.0022\n",
      "Epoch 91/200\n",
      "38/38 [==============================] - 1s 24ms/step - loss: 0.0023\n",
      "Epoch 92/200\n",
      "38/38 [==============================] - 1s 24ms/step - loss: 0.0023\n",
      "Epoch 93/200\n",
      "38/38 [==============================] - 1s 23ms/step - loss: 0.0018\n",
      "Epoch 94/200\n",
      "38/38 [==============================] - 1s 23ms/step - loss: 0.0024\n",
      "Epoch 95/200\n",
      "38/38 [==============================] - 1s 23ms/step - loss: 0.0021\n",
      "Epoch 96/200\n",
      "38/38 [==============================] - 1s 23ms/step - loss: 0.0022\n",
      "Epoch 97/200\n",
      "38/38 [==============================] - 1s 23ms/step - loss: 0.0021\n",
      "Epoch 98/200\n",
      "38/38 [==============================] - 1s 23ms/step - loss: 0.0021\n",
      "Epoch 99/200\n",
      "38/38 [==============================] - 1s 23ms/step - loss: 0.0020\n",
      "Epoch 100/200\n",
      "38/38 [==============================] - 1s 23ms/step - loss: 0.0021\n",
      "Epoch 101/200\n"
     ]
    },
    {
     "name": "stdout",
     "output_type": "stream",
     "text": [
      "38/38 [==============================] - 1s 23ms/step - loss: 0.0021\n",
      "Epoch 102/200\n",
      "38/38 [==============================] - 1s 24ms/step - loss: 0.0020\n",
      "Epoch 103/200\n",
      "38/38 [==============================] - 1s 23ms/step - loss: 0.0023\n",
      "Epoch 104/200\n",
      "38/38 [==============================] - 1s 24ms/step - loss: 0.0018\n",
      "Epoch 105/200\n",
      "38/38 [==============================] - 1s 24ms/step - loss: 0.0018\n",
      "Epoch 106/200\n",
      "38/38 [==============================] - 1s 24ms/step - loss: 0.0018\n",
      "Epoch 107/200\n",
      "38/38 [==============================] - 1s 23ms/step - loss: 0.0019\n",
      "Epoch 108/200\n",
      "38/38 [==============================] - 1s 23ms/step - loss: 0.0021\n",
      "Epoch 109/200\n",
      "38/38 [==============================] - 1s 23ms/step - loss: 0.0020\n",
      "Epoch 110/200\n",
      "38/38 [==============================] - 1s 24ms/step - loss: 0.0020\n",
      "Epoch 111/200\n",
      "38/38 [==============================] - 1s 23ms/step - loss: 0.0020\n",
      "Epoch 112/200\n",
      "38/38 [==============================] - 1s 23ms/step - loss: 0.0022\n",
      "Epoch 113/200\n",
      "38/38 [==============================] - 1s 23ms/step - loss: 0.0022\n",
      "Epoch 114/200\n",
      "38/38 [==============================] - 1s 23ms/step - loss: 0.0018\n",
      "Epoch 115/200\n",
      "38/38 [==============================] - 1s 24ms/step - loss: 0.0017\n",
      "Epoch 116/200\n",
      "38/38 [==============================] - 1s 23ms/step - loss: 0.0019\n",
      "Epoch 117/200\n",
      "38/38 [==============================] - 1s 23ms/step - loss: 0.0018\n",
      "Epoch 118/200\n",
      "38/38 [==============================] - 1s 23ms/step - loss: 0.0019\n",
      "Epoch 119/200\n",
      "38/38 [==============================] - 1s 23ms/step - loss: 0.0018\n",
      "Epoch 120/200\n",
      "38/38 [==============================] - 1s 23ms/step - loss: 0.0018\n",
      "Epoch 121/200\n",
      "38/38 [==============================] - 1s 23ms/step - loss: 0.0018\n",
      "Epoch 122/200\n",
      "38/38 [==============================] - 1s 23ms/step - loss: 0.0020\n",
      "Epoch 123/200\n",
      "38/38 [==============================] - 1s 23ms/step - loss: 0.0020\n",
      "Epoch 124/200\n",
      "38/38 [==============================] - 1s 23ms/step - loss: 0.0015\n",
      "Epoch 125/200\n",
      "38/38 [==============================] - 1s 23ms/step - loss: 0.0016\n",
      "Epoch 126/200\n",
      "38/38 [==============================] - 1s 23ms/step - loss: 0.0017\n",
      "Epoch 127/200\n",
      "38/38 [==============================] - 1s 23ms/step - loss: 0.0018\n",
      "Epoch 128/200\n",
      "38/38 [==============================] - 1s 23ms/step - loss: 0.0015\n",
      "Epoch 129/200\n",
      "38/38 [==============================] - 1s 23ms/step - loss: 0.0015\n",
      "Epoch 130/200\n",
      "38/38 [==============================] - 1s 23ms/step - loss: 0.0016\n",
      "Epoch 131/200\n",
      "38/38 [==============================] - 1s 23ms/step - loss: 0.0016\n",
      "Epoch 132/200\n",
      "38/38 [==============================] - 1s 23ms/step - loss: 0.0016\n",
      "Epoch 133/200\n",
      "38/38 [==============================] - 1s 23ms/step - loss: 0.0017\n",
      "Epoch 134/200\n",
      "38/38 [==============================] - 1s 23ms/step - loss: 0.0015\n",
      "Epoch 135/200\n",
      "38/38 [==============================] - 1s 23ms/step - loss: 0.0017\n",
      "Epoch 136/200\n",
      "38/38 [==============================] - 1s 23ms/step - loss: 0.0018\n",
      "Epoch 137/200\n",
      "38/38 [==============================] - 1s 23ms/step - loss: 0.0015\n",
      "Epoch 138/200\n",
      "38/38 [==============================] - 1s 23ms/step - loss: 0.0016\n",
      "Epoch 139/200\n",
      "38/38 [==============================] - 1s 23ms/step - loss: 0.0015\n",
      "Epoch 140/200\n",
      "38/38 [==============================] - 1s 23ms/step - loss: 0.0017\n",
      "Epoch 141/200\n",
      "38/38 [==============================] - 1s 23ms/step - loss: 0.0015\n",
      "Epoch 142/200\n",
      "38/38 [==============================] - 1s 24ms/step - loss: 0.0016\n",
      "Epoch 143/200\n",
      "38/38 [==============================] - 1s 24ms/step - loss: 0.0016\n",
      "Epoch 144/200\n",
      "38/38 [==============================] - 1s 24ms/step - loss: 0.0016\n",
      "Epoch 145/200\n",
      "38/38 [==============================] - 1s 24ms/step - loss: 0.0016\n",
      "Epoch 146/200\n",
      "38/38 [==============================] - 1s 23ms/step - loss: 0.0016\n",
      "Epoch 147/200\n",
      "38/38 [==============================] - 1s 23ms/step - loss: 0.0015\n",
      "Epoch 148/200\n",
      "38/38 [==============================] - 1s 23ms/step - loss: 0.0015\n",
      "Epoch 149/200\n",
      "38/38 [==============================] - 1s 23ms/step - loss: 0.0016\n",
      "Epoch 150/200\n",
      "38/38 [==============================] - 1s 23ms/step - loss: 0.0015\n",
      "Epoch 151/200\n",
      "38/38 [==============================] - 1s 24ms/step - loss: 0.0014\n",
      "Epoch 152/200\n",
      "38/38 [==============================] - 1s 24ms/step - loss: 0.0014\n",
      "Epoch 153/200\n",
      "38/38 [==============================] - 1s 24ms/step - loss: 0.0015\n",
      "Epoch 154/200\n",
      "38/38 [==============================] - 1s 23ms/step - loss: 0.0013\n",
      "Epoch 155/200\n",
      "38/38 [==============================] - 1s 24ms/step - loss: 0.0013\n",
      "Epoch 156/200\n",
      "38/38 [==============================] - 1s 24ms/step - loss: 0.0014\n",
      "Epoch 157/200\n",
      "38/38 [==============================] - 1s 23ms/step - loss: 0.0014\n",
      "Epoch 158/200\n",
      "38/38 [==============================] - 1s 24ms/step - loss: 0.0014\n",
      "Epoch 159/200\n",
      "38/38 [==============================] - 1s 24ms/step - loss: 0.0014\n",
      "Epoch 160/200\n",
      "38/38 [==============================] - 1s 23ms/step - loss: 0.0013\n",
      "Epoch 161/200\n",
      "38/38 [==============================] - 1s 23ms/step - loss: 0.0014\n",
      "Epoch 162/200\n",
      "38/38 [==============================] - 1s 23ms/step - loss: 0.0013\n",
      "Epoch 163/200\n",
      "38/38 [==============================] - 1s 23ms/step - loss: 0.0019\n",
      "Epoch 164/200\n",
      "38/38 [==============================] - 1s 23ms/step - loss: 0.0015\n",
      "Epoch 165/200\n",
      "38/38 [==============================] - 1s 23ms/step - loss: 0.0013\n",
      "Epoch 166/200\n",
      "38/38 [==============================] - 1s 23ms/step - loss: 0.0014\n",
      "Epoch 167/200\n",
      "38/38 [==============================] - 1s 23ms/step - loss: 0.0012\n",
      "Epoch 168/200\n",
      "38/38 [==============================] - 1s 23ms/step - loss: 0.0014\n",
      "Epoch 169/200\n",
      "38/38 [==============================] - 1s 23ms/step - loss: 0.0013\n",
      "Epoch 170/200\n",
      "38/38 [==============================] - 1s 23ms/step - loss: 0.0012\n",
      "Epoch 171/200\n",
      "38/38 [==============================] - 1s 23ms/step - loss: 0.0013\n",
      "Epoch 172/200\n",
      "38/38 [==============================] - 1s 23ms/step - loss: 0.0013\n",
      "Epoch 173/200\n",
      "38/38 [==============================] - 1s 23ms/step - loss: 0.0016\n",
      "Epoch 174/200\n",
      "38/38 [==============================] - 1s 23ms/step - loss: 0.0012\n",
      "Epoch 175/200\n",
      "38/38 [==============================] - 1s 23ms/step - loss: 0.0013\n",
      "Epoch 176/200\n",
      "38/38 [==============================] - 1s 23ms/step - loss: 0.0014\n",
      "Epoch 177/200\n",
      "38/38 [==============================] - 1s 23ms/step - loss: 0.0012\n",
      "Epoch 178/200\n",
      "38/38 [==============================] - 1s 23ms/step - loss: 0.0014\n",
      "Epoch 179/200\n",
      "38/38 [==============================] - 1s 23ms/step - loss: 0.0012\n",
      "Epoch 180/200\n",
      "38/38 [==============================] - 1s 23ms/step - loss: 0.0011\n",
      "Epoch 181/200\n",
      "38/38 [==============================] - 1s 23ms/step - loss: 0.0012\n",
      "Epoch 182/200\n",
      "38/38 [==============================] - 1s 23ms/step - loss: 0.0012\n",
      "Epoch 183/200\n",
      "38/38 [==============================] - 1s 23ms/step - loss: 0.0012\n",
      "Epoch 184/200\n",
      "38/38 [==============================] - 1s 23ms/step - loss: 0.0011\n",
      "Epoch 185/200\n",
      "38/38 [==============================] - 1s 23ms/step - loss: 0.0013\n",
      "Epoch 186/200\n",
      "38/38 [==============================] - 1s 23ms/step - loss: 0.0014\n",
      "Epoch 187/200\n",
      "38/38 [==============================] - 1s 24ms/step - loss: 0.0014\n",
      "Epoch 188/200\n",
      "38/38 [==============================] - 1s 24ms/step - loss: 0.0014\n",
      "Epoch 189/200\n",
      "38/38 [==============================] - 1s 25ms/step - loss: 0.0013\n",
      "Epoch 190/200\n",
      "38/38 [==============================] - 1s 24ms/step - loss: 0.0013\n",
      "Epoch 191/200\n",
      "38/38 [==============================] - 1s 24ms/step - loss: 0.0013\n",
      "Epoch 192/200\n",
      "38/38 [==============================] - 1s 23ms/step - loss: 0.0012\n",
      "Epoch 193/200\n",
      "38/38 [==============================] - 1s 23ms/step - loss: 0.0012\n",
      "Epoch 194/200\n",
      "38/38 [==============================] - 1s 23ms/step - loss: 0.0011\n",
      "Epoch 195/200\n",
      "38/38 [==============================] - 1s 23ms/step - loss: 0.0015\n",
      "Epoch 196/200\n",
      "38/38 [==============================] - 1s 23ms/step - loss: 0.0014\n",
      "Epoch 197/200\n",
      "38/38 [==============================] - 1s 24ms/step - loss: 0.0013\n",
      "Epoch 198/200\n",
      "38/38 [==============================] - 1s 24ms/step - loss: 0.0012\n",
      "Epoch 199/200\n",
      "38/38 [==============================] - 1s 24ms/step - loss: 0.0011\n",
      "Epoch 200/200\n",
      "38/38 [==============================] - 1s 23ms/step - loss: 0.0013\n"
     ]
    },
    {
     "data": {
      "text/plain": [
       "<keras.callbacks.History at 0x7fb8c41a4a00>"
      ]
     },
     "execution_count": 22,
     "metadata": {},
     "output_type": "execute_result"
    }
   ],
   "source": [
    "from keras.models import Sequential\n",
    "from keras.layers import Dense\n",
    "from keras.layers import SimpleRNN\n",
    "from keras.layers import Dropout\n",
    "\n",
    "regressor = Sequential()\n",
    "\n",
    "regressor.add(SimpleRNN(units = 50,activation='tanh', return_sequences = True, input_shape = (X_train.shape[1], 1)))\n",
    "regressor.add(Dropout(0.2))\n",
    "\n",
    "regressor.add(SimpleRNN(units = 50,activation='tanh', return_sequences = True))\n",
    "regressor.add(Dropout(0.2))\n",
    "\n",
    "regressor.add(SimpleRNN(units = 50,activation='tanh', return_sequences = True))\n",
    "regressor.add(Dropout(0.2))\n",
    "\n",
    "regressor.add(SimpleRNN(units = 50))\n",
    "regressor.add(Dropout(0.2))\n",
    "\n",
    "regressor.add(Dense(units = 1))\n",
    "\n",
    "regressor.compile(optimizer = 'adam', loss = 'mean_squared_error')\n",
    "\n",
    "regressor.fit(X_train, y_train, epochs = 200, batch_size = 32)"
   ]
  },
  {
   "cell_type": "code",
   "execution_count": 23,
   "metadata": {
    "executionInfo": {
     "elapsed": 1401,
     "status": "ok",
     "timestamp": 1683662183371,
     "user": {
      "displayName": "Ankit Kumar",
      "userId": "08027391101207374728"
     },
     "user_tz": -330
    },
    "id": "7sVMloY97Zk4"
   },
   "outputs": [],
   "source": [
    "test_data = pd.read_csv(base+'/Stock_Price_Test.csv')"
   ]
  },
  {
   "cell_type": "code",
   "execution_count": 24,
   "metadata": {
    "colab": {
     "base_uri": "https://localhost:8080/",
     "height": 206
    },
    "executionInfo": {
     "elapsed": 27,
     "status": "ok",
     "timestamp": 1683662183372,
     "user": {
      "displayName": "Ankit Kumar",
      "userId": "08027391101207374728"
     },
     "user_tz": -330
    },
    "id": "1QSWLJt57Zk4",
    "outputId": "74d402b5-e021-42e0-9609-b2882e37c616"
   },
   "outputs": [
    {
     "data": {
      "text/html": [
       "<div>\n",
       "<style scoped>\n",
       "    .dataframe tbody tr th:only-of-type {\n",
       "        vertical-align: middle;\n",
       "    }\n",
       "\n",
       "    .dataframe tbody tr th {\n",
       "        vertical-align: top;\n",
       "    }\n",
       "\n",
       "    .dataframe thead th {\n",
       "        text-align: right;\n",
       "    }\n",
       "</style>\n",
       "<table border=\"1\" class=\"dataframe\">\n",
       "  <thead>\n",
       "    <tr style=\"text-align: right;\">\n",
       "      <th></th>\n",
       "      <th>Date</th>\n",
       "      <th>Open</th>\n",
       "      <th>High</th>\n",
       "      <th>Low</th>\n",
       "      <th>Close</th>\n",
       "      <th>Volume</th>\n",
       "    </tr>\n",
       "  </thead>\n",
       "  <tbody>\n",
       "    <tr>\n",
       "      <th>0</th>\n",
       "      <td>1/3/2017</td>\n",
       "      <td>778.81</td>\n",
       "      <td>789.63</td>\n",
       "      <td>775.80</td>\n",
       "      <td>786.14</td>\n",
       "      <td>1,657,300</td>\n",
       "    </tr>\n",
       "    <tr>\n",
       "      <th>1</th>\n",
       "      <td>1/4/2017</td>\n",
       "      <td>788.36</td>\n",
       "      <td>791.34</td>\n",
       "      <td>783.16</td>\n",
       "      <td>786.90</td>\n",
       "      <td>1,073,000</td>\n",
       "    </tr>\n",
       "    <tr>\n",
       "      <th>2</th>\n",
       "      <td>1/5/2017</td>\n",
       "      <td>786.08</td>\n",
       "      <td>794.48</td>\n",
       "      <td>785.02</td>\n",
       "      <td>794.02</td>\n",
       "      <td>1,335,200</td>\n",
       "    </tr>\n",
       "    <tr>\n",
       "      <th>3</th>\n",
       "      <td>1/6/2017</td>\n",
       "      <td>795.26</td>\n",
       "      <td>807.90</td>\n",
       "      <td>792.20</td>\n",
       "      <td>806.15</td>\n",
       "      <td>1,640,200</td>\n",
       "    </tr>\n",
       "    <tr>\n",
       "      <th>4</th>\n",
       "      <td>1/9/2017</td>\n",
       "      <td>806.40</td>\n",
       "      <td>809.97</td>\n",
       "      <td>802.83</td>\n",
       "      <td>806.65</td>\n",
       "      <td>1,272,400</td>\n",
       "    </tr>\n",
       "  </tbody>\n",
       "</table>\n",
       "</div>"
      ],
      "text/plain": [
       "       Date    Open    High     Low   Close     Volume\n",
       "0  1/3/2017  778.81  789.63  775.80  786.14  1,657,300\n",
       "1  1/4/2017  788.36  791.34  783.16  786.90  1,073,000\n",
       "2  1/5/2017  786.08  794.48  785.02  794.02  1,335,200\n",
       "3  1/6/2017  795.26  807.90  792.20  806.15  1,640,200\n",
       "4  1/9/2017  806.40  809.97  802.83  806.65  1,272,400"
      ]
     },
     "execution_count": 24,
     "metadata": {},
     "output_type": "execute_result"
    }
   ],
   "source": [
    "test_data.head()"
   ]
  },
  {
   "cell_type": "code",
   "execution_count": 25,
   "metadata": {
    "executionInfo": {
     "elapsed": 25,
     "status": "ok",
     "timestamp": 1683662183372,
     "user": {
      "displayName": "Ankit Kumar",
      "userId": "08027391101207374728"
     },
     "user_tz": -330
    },
    "id": "Iv12LKEt7Zk5"
   },
   "outputs": [],
   "source": [
    "real_stock_price = test_data.loc[:,['Open']].values"
   ]
  },
  {
   "cell_type": "code",
   "execution_count": 26,
   "metadata": {
    "colab": {
     "base_uri": "https://localhost:8080/"
    },
    "executionInfo": {
     "elapsed": 25,
     "status": "ok",
     "timestamp": 1683662183373,
     "user": {
      "displayName": "Ankit Kumar",
      "userId": "08027391101207374728"
     },
     "user_tz": -330
    },
    "id": "mu1xNUIB7Zk5",
    "outputId": "694100d3-3113-410c-ec7a-46d23a063e8c"
   },
   "outputs": [
    {
     "data": {
      "text/plain": [
       "array([[778.81],\n",
       "       [788.36],\n",
       "       [786.08],\n",
       "       [795.26],\n",
       "       [806.4 ],\n",
       "       [807.86],\n",
       "       [805.  ],\n",
       "       [807.14],\n",
       "       [807.48],\n",
       "       [807.08],\n",
       "       [805.81],\n",
       "       [805.12],\n",
       "       [806.91],\n",
       "       [807.25],\n",
       "       [822.3 ],\n",
       "       [829.62],\n",
       "       [837.81],\n",
       "       [834.71],\n",
       "       [814.66],\n",
       "       [796.86]])"
      ]
     },
     "execution_count": 26,
     "metadata": {},
     "output_type": "execute_result"
    }
   ],
   "source": [
    "real_stock_price"
   ]
  },
  {
   "cell_type": "code",
   "execution_count": 27,
   "metadata": {
    "executionInfo": {
     "elapsed": 16,
     "status": "ok",
     "timestamp": 1683662183373,
     "user": {
      "displayName": "Ankit Kumar",
      "userId": "08027391101207374728"
     },
     "user_tz": -330
    },
    "id": "uu_rtEB17Zk6"
   },
   "outputs": [],
   "source": [
    "total_data = pd.concat((train_data['Open'],test_data['Open']),axis=0)\n",
    "inputs = total_data[len(total_data)-len(test_data)-timesteps:].values.reshape(-1,1)\n",
    "inputs = scaler.transform(inputs) #min max scaler"
   ]
  },
  {
   "cell_type": "code",
   "execution_count": 28,
   "metadata": {
    "colab": {
     "base_uri": "https://localhost:8080/"
    },
    "executionInfo": {
     "elapsed": 15,
     "status": "ok",
     "timestamp": 1683662183373,
     "user": {
      "displayName": "Ankit Kumar",
      "userId": "08027391101207374728"
     },
     "user_tz": -330
    },
    "id": "lMxaEmV_7Zk6",
    "outputId": "035ba91f-4c68-489e-bd3d-a7a2f1e28f99"
   },
   "outputs": [
    {
     "data": {
      "text/plain": [
       "array([[0.97510976],\n",
       "       [0.95966962],\n",
       "       [0.97808617],\n",
       "       [1.        ],\n",
       "       [0.98076494],\n",
       "       [0.97083116],\n",
       "       [0.98450406],\n",
       "       [0.96054394],\n",
       "       [0.9371419 ],\n",
       "       [0.92841729],\n",
       "       [0.90804747],\n",
       "       [0.8771858 ],\n",
       "       [0.92153434],\n",
       "       [0.93809063],\n",
       "       [0.93165414],\n",
       "       [0.95254483],\n",
       "       [0.88812412],\n",
       "       [0.88637547],\n",
       "       [0.87032145],\n",
       "       [0.88563137],\n",
       "       [0.90743359],\n",
       "       [0.91571173],\n",
       "       [0.89941588],\n",
       "       [0.91805566],\n",
       "       [0.9089404 ],\n",
       "       [0.9024853 ],\n",
       "       [0.89456061],\n",
       "       [0.91600938],\n",
       "       [0.9132934 ],\n",
       "       [0.88979835],\n",
       "       [0.86589404],\n",
       "       [0.89030062],\n",
       "       [0.90335962],\n",
       "       [0.89642086],\n",
       "       [0.91777662],\n",
       "       [0.93176576],\n",
       "       [0.94114145],\n",
       "       [0.95762334],\n",
       "       [0.96413424],\n",
       "       [0.96402262],\n",
       "       [0.96971501],\n",
       "       [0.95077759],\n",
       "       [0.96294367],\n",
       "       [0.96123223],\n",
       "       [0.95475854],\n",
       "       [0.95204256],\n",
       "       [0.95163331],\n",
       "       [0.95725128],\n",
       "       [0.93796041],\n",
       "       [0.93688146],\n",
       "       [0.92955205],\n",
       "       [0.94731751],\n",
       "       [0.94307612],\n",
       "       [0.96015329],\n",
       "       [0.98087655],\n",
       "       [0.98359253],\n",
       "       [0.97827219],\n",
       "       [0.98225314],\n",
       "       [0.98288563],\n",
       "       [0.98214153],\n",
       "       [0.979779  ],\n",
       "       [0.97849542],\n",
       "       [0.98182528],\n",
       "       [0.98245777],\n",
       "       [1.01045465],\n",
       "       [1.02407173],\n",
       "       [1.03930724],\n",
       "       [1.03354044],\n",
       "       [0.99624228],\n",
       "       [0.9631297 ]])"
      ]
     },
     "execution_count": 28,
     "metadata": {},
     "output_type": "execute_result"
    }
   ],
   "source": [
    "inputs"
   ]
  },
  {
   "cell_type": "code",
   "execution_count": 29,
   "metadata": {
    "colab": {
     "base_uri": "https://localhost:8080/"
    },
    "executionInfo": {
     "elapsed": 1151,
     "status": "ok",
     "timestamp": 1683662184516,
     "user": {
      "displayName": "Ankit Kumar",
      "userId": "08027391101207374728"
     },
     "user_tz": -330
    },
    "id": "By18PHw67Zk6",
    "outputId": "1569842d-9654-4c97-df33-e95858f90888"
   },
   "outputs": [
    {
     "name": "stdout",
     "output_type": "stream",
     "text": [
      "1/1 [==============================] - 0s 372ms/step\n"
     ]
    }
   ],
   "source": [
    "X_test = []\n",
    "for i in range(timesteps, 70):\n",
    "    X_test.append(inputs[i-timesteps:i, 0])\n",
    "X_test = np.array(X_test)\n",
    "X_test = np.reshape(X_test, (X_test.shape[0], X_test.shape[1], 1))\n",
    "predicted_stock_price = regressor.predict(X_test)\n",
    "predicted_stock_price = scaler.inverse_transform(predicted_stock_price)"
   ]
  },
  {
   "cell_type": "markdown",
   "metadata": {
    "id": "YfsBm2ya7Zk7"
   },
   "source": [
    "## Visualization"
   ]
  },
  {
   "cell_type": "code",
   "execution_count": 30,
   "metadata": {
    "colab": {
     "base_uri": "https://localhost:8080/",
     "height": 472
    },
    "executionInfo": {
     "elapsed": 5,
     "status": "ok",
     "timestamp": 1683662184516,
     "user": {
      "displayName": "Ankit Kumar",
      "userId": "08027391101207374728"
     },
     "user_tz": -330
    },
    "id": "hDh1zv9a7Zk7",
    "outputId": "569ededa-ffe1-46c6-d212-82e5f1d000a7"
   },
   "outputs": [
    {
     "data": {
      "image/png": "[encoded data removed]",
      "text/plain": [
       "<Figure size 432x288 with 1 Axes>"
      ]
     },
     "metadata": {
      "needs_background": "light"
     },
     "output_type": "display_data"
    }
   ],
   "source": [
    "plt.plot(real_stock_price,color='red',label='Real Google Stock Price')\n",
    "plt.plot(predicted_stock_price,color='blue',label='Predicted Google Stock Price')\n",
    "plt.title('Google Stoc Price Prediction')\n",
    "plt.xlabel('Time')\n",
    "plt.ylabel('Google Stock Price')\n",
    "plt.legend()\n",
    "plt.show()"
   ]
  },
  {
   "cell_type": "code",
   "execution_count": null,
   "metadata": {
    "id": "t1DcXH2x7Zk7"
   },
   "outputs": [],
   "source": []
  },
  {
   "cell_type": "code",
   "execution_count": null,
   "metadata": {},
   "outputs": [],
   "source": []
  },
  {
   "cell_type": "code",
   "execution_count": null,
   "metadata": {},
   "outputs": [],
   "source": []
  },
  {
   "cell_type": "code",
   "execution_count": null,
   "metadata": {},
   "outputs": [],
   "source": []
  }
 ],
 "metadata": {
  "colab": {
   "provenance": []
  },
  "kernelspec": {
   "display_name": "Python 3",
   "language": "python",
   "name": "python3"
  },
  "language_info": {
   "codemirror_mode": {
    "name": "ipython",
    "version": 3
   },
   "file_extension": ".py",
   "mimetype": "text/x-python",
   "name": "python",
   "nbconvert_exporter": "python",
   "pygments_lexer": "ipython3",
   "version": "3.7.3"
  }
 },
 "nbformat": 4,
 "nbformat_minor": 4
}
